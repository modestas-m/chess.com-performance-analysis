{
 "cells": [
  {
   "cell_type": "code",
   "execution_count": 3,
   "id": "adb6f7bb",
   "metadata": {
    "scrolled": true
   },
   "outputs": [],
   "source": [
    "# since you first have to create a virtual environment it get created with no jupyter notebooks preinstalled, so:\n",
    "# pip install --user ipykernel - this install the jupyter kernel \n",
    "# python -m ipykernel install --user --name=myenv - this creates the environment as kernel\n",
    "#I think there is no need to do have a virtual environment heret since it's just a notebook with analysis, "
   ]
  },
  {
   "cell_type": "code",
   "execution_count": 4,
   "id": "a0064b0d",
   "metadata": {
    "scrolled": true
   },
   "outputs": [],
   "source": [
    "\n",
    "from chessdotcom import client, get_player_game_archives\n",
    "from datetime import datetime\n",
    "import pprint\n",
    "import requests\n",
    "import pandas as pd\n",
    "\n",
    "username = 'chiopra'\n",
    "\n",
    "printer = pprint.PrettyPrinter()\n",
    "\n",
    "def print_stats(username):\n",
    "    data = client.get_player_stats(username, tts=0)\n",
    "    printer.pprint(data.json)\n",
    "\n"
   ]
  },
  {
   "cell_type": "markdown",
   "id": "fb67f144",
   "metadata": {},
   "source": [
    "### A/B Test: Playing more than 4 games per day leads to better results"
   ]
  },
  {
   "cell_type": "code",
   "execution_count": 5,
   "id": "f6523194",
   "metadata": {},
   "outputs": [],
   "source": [
    "dates = []\n",
    "results = []\n",
    "\n",
    "def appending_results(values):\n",
    "    if values['result'] == 'win':\n",
    "        results.append('win')\n",
    "    elif values['result'] == 'draw':\n",
    "        results.append('draw')\n",
    "    else:\n",
    "        results.append('loss')\n",
    "    return results\n",
    "\n",
    "def get_games(username):\n",
    "    data = get_player_game_archives(username)\n",
    "    for key,value in data.json.items():\n",
    "        for url in value:\n",
    "            games = requests.get(url).json()\n",
    "            for game in games['games']:\n",
    "                for k, v in game.items():\n",
    "                    if k == 'end_time':\n",
    "                        date = datetime.utcfromtimestamp(v).strftime('%Y-%m-%d')\n",
    "                        dates.append(date)\n",
    "                    if k == 'white' and v['username'] == 'chiopra':\n",
    "                        results = appending_results(v)\n",
    "                    elif k == 'black' and v['username'] == 'chiopra':\n",
    "                        results = appending_results(v)\n",
    "    return dates, results\n",
    "\n",
    "dates, results = get_games(username)\n",
    "\n",
    "\n",
    "#                 if game['time_class'] == 'rapid':\n",
    "#                     for k, v in game.items():\n",
    "#                         print(k)\n",
    "                #for tomorrow just the date and the result, loss or win to df and then do aggregate function to get wins/losses per day\n",
    "#                 print(type(game))\n",
    "#                 df = pd.DataFrame.from_dict(game, orient = 'columns')\n",
    "#                 print(df)\n",
    "#                 print\n",
    "#                 print(df.columns)\n",
    "#                 string = df['pgn'].to_string(index=False)\n",
    "#                 print(string)\n",
    "#                 for i in string.split('\"'):\n",
    "#                     print(i)\n",
    "#                 break;\n",
    "#             break;\n",
    "              \n",
    "    # for i in data['Archives']:\n",
    "    #     print(i)\n",
    "    # printer.pprint(data.json)\n",
    "\n",
    "# get_games(username)\n",
    "\n",
    "# print(requests.get('https://www.chess.com/game/live/1221711014').content())"
   ]
  },
  {
   "cell_type": "code",
   "execution_count": 6,
   "id": "1aee75e6",
   "metadata": {
    "scrolled": true
   },
   "outputs": [],
   "source": [
    "import numpy as np\n",
    "\n",
    "df = pd.DataFrame({'dates': dates,\n",
    "                   'results': results})"
   ]
  },
  {
   "cell_type": "code",
   "execution_count": 7,
   "id": "67b5d120",
   "metadata": {},
   "outputs": [],
   "source": [
    "#I think that it works and doesn't work sometimes because of this warning\n",
    "\n",
    "# C:\\Users\\ModestasMotiejunas\\AppData\\Local\\Temp\\ipykernel_22844\\870220668.py:17: SettingWithCopyWarning: \n",
    "# A value is trying to be set on a copy of a slice from a DataFrame.\n",
    "# Try using .loc[row_indexer,col_indexer] = value instead\n",
    "\n",
    "# See the caveats in the documentation: https://pandas.pydata.org/pandas-docs/stable/user_guide/indexing.html#returning-a-view-versus-a-copy\n",
    "#   df_test_sub['games per day'] = df_test_sub.groupby(['dates'])['count'].sum()"
   ]
  },
  {
   "cell_type": "code",
   "execution_count": 8,
   "id": "46e9530b",
   "metadata": {},
   "outputs": [],
   "source": [
    "import duckdb "
   ]
  },
  {
   "cell_type": "code",
   "execution_count": null,
   "id": "5e71df81",
   "metadata": {},
   "outputs": [],
   "source": [
    "# Run these pip install commands from the command line if Jupyter Notebook is not yet installed.\n",
    "# Otherwise, see Google Collab link above for an in-notebook example\n",
    "pip install duckdb\n",
    "\n",
    "# Install Jupyter Notebook (Note: you can also install JupyterLab: pip install jupyterlab) \n",
    "pip install notebook\n",
    "\n",
    "# Install supporting libraries\n",
    "pip install jupysql\n",
    "pip install duckdb-engine\n",
    "pip install pandas       # conda install pandas (in case pip fails)\n",
    "pip install matplotlib"
   ]
  },
  {
   "cell_type": "code",
   "execution_count": 9,
   "id": "80453bbe",
   "metadata": {},
   "outputs": [
    {
     "name": "stdout",
     "output_type": "stream",
     "text": [
      "The sql extension is already loaded. To reload it, use:\n",
      "  %reload_ext sql\n"
     ]
    }
   ],
   "source": [
    "%load_ext sql"
   ]
  },
  {
   "cell_type": "code",
   "execution_count": 10,
   "id": "f02e093c",
   "metadata": {},
   "outputs": [],
   "source": [
    "%config SqlMagic.autopandas = True\n",
    "%config SqlMagic.feedback = False\n",
    "%config SqlMagic.displaycon = False"
   ]
  },
  {
   "cell_type": "code",
   "execution_count": 13,
   "id": "0ff24421",
   "metadata": {},
   "outputs": [],
   "source": [
    "%sql duckdb:///:memory:"
   ]
  },
  {
   "cell_type": "code",
   "execution_count": 14,
   "id": "a41c0cac",
   "metadata": {},
   "outputs": [
    {
     "data": {
      "text/html": [
       "<div>\n",
       "<style scoped>\n",
       "    .dataframe tbody tr th:only-of-type {\n",
       "        vertical-align: middle;\n",
       "    }\n",
       "\n",
       "    .dataframe tbody tr th {\n",
       "        vertical-align: top;\n",
       "    }\n",
       "\n",
       "    .dataframe thead th {\n",
       "        text-align: right;\n",
       "    }\n",
       "</style>\n",
       "<table border=\"1\" class=\"dataframe\">\n",
       "  <thead>\n",
       "    <tr style=\"text-align: right;\">\n",
       "      <th></th>\n",
       "      <th>dates</th>\n",
       "      <th>results</th>\n",
       "      <th>count</th>\n",
       "      <th>games</th>\n",
       "      <th>percentage</th>\n",
       "    </tr>\n",
       "  </thead>\n",
       "  <tbody>\n",
       "    <tr>\n",
       "      <th>0</th>\n",
       "      <td>2022-11-04</td>\n",
       "      <td>win</td>\n",
       "      <td>4.0</td>\n",
       "      <td>4.0</td>\n",
       "      <td>100.000000</td>\n",
       "    </tr>\n",
       "    <tr>\n",
       "      <th>1</th>\n",
       "      <td>2023-02-28</td>\n",
       "      <td>win</td>\n",
       "      <td>4.0</td>\n",
       "      <td>4.0</td>\n",
       "      <td>100.000000</td>\n",
       "    </tr>\n",
       "    <tr>\n",
       "      <th>2</th>\n",
       "      <td>2021-07-14</td>\n",
       "      <td>win</td>\n",
       "      <td>8.0</td>\n",
       "      <td>8.0</td>\n",
       "      <td>100.000000</td>\n",
       "    </tr>\n",
       "    <tr>\n",
       "      <th>3</th>\n",
       "      <td>2021-08-30</td>\n",
       "      <td>win</td>\n",
       "      <td>5.0</td>\n",
       "      <td>5.0</td>\n",
       "      <td>100.000000</td>\n",
       "    </tr>\n",
       "    <tr>\n",
       "      <th>4</th>\n",
       "      <td>2020-12-06</td>\n",
       "      <td>win</td>\n",
       "      <td>9.0</td>\n",
       "      <td>10.0</td>\n",
       "      <td>90.000000</td>\n",
       "    </tr>\n",
       "    <tr>\n",
       "      <th>...</th>\n",
       "      <td>...</td>\n",
       "      <td>...</td>\n",
       "      <td>...</td>\n",
       "      <td>...</td>\n",
       "      <td>...</td>\n",
       "    </tr>\n",
       "    <tr>\n",
       "      <th>138</th>\n",
       "      <td>2021-07-01</td>\n",
       "      <td>win</td>\n",
       "      <td>3.0</td>\n",
       "      <td>15.0</td>\n",
       "      <td>20.000000</td>\n",
       "    </tr>\n",
       "    <tr>\n",
       "      <th>139</th>\n",
       "      <td>2021-09-12</td>\n",
       "      <td>win</td>\n",
       "      <td>1.0</td>\n",
       "      <td>5.0</td>\n",
       "      <td>20.000000</td>\n",
       "    </tr>\n",
       "    <tr>\n",
       "      <th>140</th>\n",
       "      <td>2021-11-19</td>\n",
       "      <td>win</td>\n",
       "      <td>1.0</td>\n",
       "      <td>5.0</td>\n",
       "      <td>20.000000</td>\n",
       "    </tr>\n",
       "    <tr>\n",
       "      <th>141</th>\n",
       "      <td>2021-10-07</td>\n",
       "      <td>win</td>\n",
       "      <td>1.0</td>\n",
       "      <td>5.0</td>\n",
       "      <td>20.000000</td>\n",
       "    </tr>\n",
       "    <tr>\n",
       "      <th>142</th>\n",
       "      <td>2021-07-12</td>\n",
       "      <td>win</td>\n",
       "      <td>1.0</td>\n",
       "      <td>6.0</td>\n",
       "      <td>16.666668</td>\n",
       "    </tr>\n",
       "  </tbody>\n",
       "</table>\n",
       "<p>143 rows × 5 columns</p>\n",
       "</div>"
      ],
      "text/plain": [
       "          dates results  count  games  percentage\n",
       "0    2022-11-04     win    4.0    4.0  100.000000\n",
       "1    2023-02-28     win    4.0    4.0  100.000000\n",
       "2    2021-07-14     win    8.0    8.0  100.000000\n",
       "3    2021-08-30     win    5.0    5.0  100.000000\n",
       "4    2020-12-06     win    9.0   10.0   90.000000\n",
       "..          ...     ...    ...    ...         ...\n",
       "138  2021-07-01     win    3.0   15.0   20.000000\n",
       "139  2021-09-12     win    1.0    5.0   20.000000\n",
       "140  2021-11-19     win    1.0    5.0   20.000000\n",
       "141  2021-10-07     win    1.0    5.0   20.000000\n",
       "142  2021-07-12     win    1.0    6.0   16.666668\n",
       "\n",
       "[143 rows x 5 columns]"
      ]
     },
     "execution_count": 14,
     "metadata": {},
     "output_type": "execute_result"
    }
   ],
   "source": [
    "\n",
    "%%sql WITH fully AS (SELECT *,cast(count(dates) as float) as count \n",
    "FROM df GROUP BY dates, results),\n",
    "sub as (SELECT dates, cast(count(dates) as float) as games\n",
    "FROM df GROUP BY dates)\n",
    "select f.*, s.games, (f.count/s.games)*100 as percentage from fully f\n",
    "left join sub s on s.dates = f.dates\n",
    "where f.results = 'win' and games > 3\n",
    "order by percentage desc;\n"
   ]
  },
  {
   "cell_type": "code",
   "execution_count": null,
   "id": "a6890b4a",
   "metadata": {},
   "outputs": [],
   "source": [
    "# duckdb.sql(\"\"\"WITH fully AS (SELECT *,cast(count(dates) as float) as count \n",
    "#            FROM df GROUP BY dates, results),\n",
    "#            sub as (SELECT dates, cast(count(dates) as float) as games\n",
    "#            FROM df GROUP BY dates)\n",
    "#            select f.*, s.games, (f.count/s.games)*100 as percentage from fully f\n",
    "#            left join sub s on s.dates = f.dates\n",
    "#            where f.results = 'win' and games > 3\n",
    "#            order by percentage desc;\"\"\"\n",
    "#           )"
   ]
  }
 ],
 "metadata": {
  "kernelspec": {
   "display_name": "Python 3 (ipykernel)",
   "language": "python",
   "name": "python3"
  },
  "language_info": {
   "codemirror_mode": {
    "name": "ipython",
    "version": 3
   },
   "file_extension": ".py",
   "mimetype": "text/x-python",
   "name": "python",
   "nbconvert_exporter": "python",
   "pygments_lexer": "ipython3",
   "version": "3.9.12"
  }
 },
 "nbformat": 4,
 "nbformat_minor": 5
}
