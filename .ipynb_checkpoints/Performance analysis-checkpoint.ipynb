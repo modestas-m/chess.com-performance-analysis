{
 "cells": [
  {
   "cell_type": "code",
   "execution_count": 3,
   "id": "adb6f7bb",
   "metadata": {
    "scrolled": true
   },
   "outputs": [],
   "source": [
    "# since you first have to create a virtual environment it get created with no jupyter notebooks preinstalled, so:\n",
    "# pip install --user ipykernel - this install the jupyter kernel \n",
    "# python -m ipykernel install --user --name=myenv - this creates the environment as kernel\n",
    "#I think there is no need to do have a virtual environment heret since it's just a notebook with analysis, "
   ]
  },
  {
   "cell_type": "code",
   "execution_count": null,
   "id": "b28d3a4b",
   "metadata": {},
   "outputs": [],
   "source": [
    "# Run these pip install commands from the command line if Jupyter Notebook is not yet installed.\n",
    "# Otherwise, see Google Collab link above for an in-notebook example\n",
    "pip install duckdb\n",
    "\n",
    "# Install Jupyter Notebook (Note: you can also install JupyterLab: pip install jupyterlab) \n",
    "pip install notebook\n",
    "\n",
    "# Install supporting libraries\n",
    "pip install jupysql\n",
    "pip install duckdb-engine\n",
    "pip install pandas       # conda install pandas (in case pip fails)\n",
    "pip install matplotlib"
   ]
  },
  {
   "cell_type": "code",
   "execution_count": 5,
   "id": "88e4edbb",
   "metadata": {},
   "outputs": [],
   "source": [
    "%load_ext sql\n",
    "\n",
    "%config SqlMagic.autopandas = True\n",
    "%config SqlMagic.feedback = False\n",
    "%config SqlMagic.displaycon = False\n",
    "\n",
    "%sql duckdb:///:memory:"
   ]
  },
  {
   "cell_type": "code",
   "execution_count": 6,
   "id": "a0064b0d",
   "metadata": {
    "scrolled": true
   },
   "outputs": [],
   "source": [
    "#Importing all the required packages\n",
    "from chessdotcom import client, get_player_game_archives\n",
    "from datetime import datetime\n",
    "import pprint\n",
    "import requests\n",
    "import pandas as pd\n",
    "import duckdb "
   ]
  },
  {
   "cell_type": "code",
   "execution_count": 13,
   "id": "84b2d74c",
   "metadata": {},
   "outputs": [
    {
     "name": "stdout",
     "output_type": "stream",
     "text": [
      "{'stats': {'chess_blitz': {'best': {'date': 1437375600,\n",
      "                                    'game': 'https://www.chess.com/game/live/64361468515',\n",
      "                                    'rating': 1200},\n",
      "                           'last': {'date': 1678375200,\n",
      "                                    'rating': 850,\n",
      "                                    'rd': 46},\n",
      "                           'record': {'draw': 32, 'loss': 534, 'win': 557}},\n",
      "           'chess_bullet': {'last': {'date': 1669305049,\n",
      "                                     'rating': 871,\n",
      "                                     'rd': 202},\n",
      "                            'record': {'draw': 0, 'loss': 3, 'win': 0}},\n",
      "           'chess_rapid': {'best': {'date': 1677763272,\n",
      "                                    'game': 'https://www.chess.com/game/live/71582671427',\n",
      "                                    'rating': 1306},\n",
      "                           'last': {'date': 1677844996,\n",
      "                                    'rating': 1294,\n",
      "                                    'rd': 34},\n",
      "                           'record': {'draw': 33, 'loss': 431, 'win': 498}},\n",
      "           'fide': 0,\n",
      "           'puzzle_rush': {'best': {'score': 22, 'total_attempts': 25},\n",
      "                           'daily': {'score': 15, 'total_attempts': 17}},\n",
      "           'tactics': {'highest': {'date': 1664204149, 'rating': 2117},\n",
      "                       'lowest': {'date': 1626329700, 'rating': 875}}}}\n"
     ]
    }
   ],
   "source": [
    "username = 'chiopra'\n",
    "\n",
    "printer = pprint.PrettyPrinter()\n",
    "\n",
    "def print_stats(username):\n",
    "    data = client.get_player_stats(username, tts=0)\n",
    "    printer.pprint(data.json)\n",
    "\n",
    "print_stats(username)"
   ]
  },
  {
   "cell_type": "markdown",
   "id": "fb67f144",
   "metadata": {},
   "source": [
    "### A/B Test: Playing more than 4 games per day leads to better results"
   ]
  },
  {
   "cell_type": "code",
   "execution_count": 11,
   "id": "f6523194",
   "metadata": {},
   "outputs": [
    {
     "name": "stdout",
     "output_type": "stream",
     "text": [
      "ChessDotComResponse(archives=['https://api.chess.com/pub/player/chiopra/games/2015/07', 'https://api.chess.com/pub/player/chiopra/games/2020/07', 'https://api.chess.com/pub/player/chiopra/games/2020/12', 'https://api.chess.com/pub/player/chiopra/games/2021/03', 'https://api.chess.com/pub/player/chiopra/games/2021/06', 'https://api.chess.com/pub/player/chiopra/games/2021/07', 'https://api.chess.com/pub/player/chiopra/games/2021/08', 'https://api.chess.com/pub/player/chiopra/games/2021/09', 'https://api.chess.com/pub/player/chiopra/games/2021/10', 'https://api.chess.com/pub/player/chiopra/games/2021/11', 'https://api.chess.com/pub/player/chiopra/games/2021/12', 'https://api.chess.com/pub/player/chiopra/games/2022/01', 'https://api.chess.com/pub/player/chiopra/games/2022/02', 'https://api.chess.com/pub/player/chiopra/games/2022/03', 'https://api.chess.com/pub/player/chiopra/games/2022/04', 'https://api.chess.com/pub/player/chiopra/games/2022/09', 'https://api.chess.com/pub/player/chiopra/games/2022/10', 'https://api.chess.com/pub/player/chiopra/games/2022/11', 'https://api.chess.com/pub/player/chiopra/games/2022/12', 'https://api.chess.com/pub/player/chiopra/games/2023/02', 'https://api.chess.com/pub/player/chiopra/games/2023/03'])\n"
     ]
    }
   ],
   "source": [
    "dates = []\n",
    "results = []\n",
    "\n",
    "def appending_results(values):\n",
    "    if values['result'] == 'win':\n",
    "        results.append('win')\n",
    "    elif values['result'] == 'draw':\n",
    "        results.append('draw')\n",
    "    else:\n",
    "        results.append('loss')\n",
    "    return results\n",
    "\n",
    "def get_games(username):\n",
    "    data = get_player_game_archives(username)\n",
    "    print(data)\n",
    "    for key,value in data.json.items():\n",
    "        for url in value:\n",
    "            games = requests.get(url).json()\n",
    "            for game in games['games']:\n",
    "                for k, v in game.items():\n",
    "                    if k == 'end_time':\n",
    "                        date = datetime.utcfromtimestamp(v).strftime('%Y-%m-%d')\n",
    "                        dates.append(date)\n",
    "                    if k == 'white' and v['username'] == 'chiopra':\n",
    "                        results = appending_results(v)\n",
    "                    elif k == 'black' and v['username'] == 'chiopra':\n",
    "                        results = appending_results(v)\n",
    "    return dates, results\n",
    "\n",
    "dates, results = get_games(username)\n",
    "\n",
    "\n",
    "#                 if game['time_class'] == 'rapid':\n",
    "#                     for k, v in game.items():\n",
    "#                         print(k)\n",
    "                #for tomorrow just the date and the result, loss or win to df and then do aggregate function to get wins/losses per day\n",
    "#                 print(type(game))\n",
    "#                 df = pd.DataFrame.from_dict(game, orient = 'columns')\n",
    "#                 print(df)\n",
    "#                 print\n",
    "#                 print(df.columns)\n",
    "#                 string = df['pgn'].to_string(index=False)\n",
    "#                 print(string)\n",
    "#                 for i in string.split('\"'):\n",
    "#                     print(i)\n",
    "#                 break;\n",
    "#             break;\n",
    "              \n",
    "    # for i in data['Archives']:\n",
    "    #     print(i)\n",
    "    # printer.pprint(data.json)\n",
    "\n",
    "# get_games(username)\n",
    "\n",
    "# print(requests.get('https://www.chess.com/game/live/1221711014').content())"
   ]
  },
  {
   "cell_type": "code",
   "execution_count": 9,
   "id": "1aee75e6",
   "metadata": {
    "scrolled": true
   },
   "outputs": [],
   "source": [
    "import numpy as np\n",
    "\n",
    "df = pd.DataFrame({'dates': dates,\n",
    "                   'results': results})"
   ]
  },
  {
   "cell_type": "code",
   "execution_count": 27,
   "id": "8e40ef46",
   "metadata": {},
   "outputs": [],
   "source": []
  },
  {
   "cell_type": "code",
   "execution_count": 58,
   "id": "a41c0cac",
   "metadata": {},
   "outputs": [],
   "source": [
    "#without \\ you could not have separate rows for sql script\n",
    "%sql df_agg << WITH fully AS \\\n",
    "(SELECT *,cast(count(dates) as float) as count \\\n",
    "FROM df GROUP BY dates, results), \\\n",
    "sub as \\\n",
    "(SELECT dates, cast(count(dates) as float) as games \\\n",
    "FROM df GROUP BY dates) \\\n",
    "select f.*, s.games, (f.count/s.games)*100 as percentage from fully f \\\n",
    "left join sub s on s.dates = f.dates \\\n",
    "where f.results = 'win' and games > 1 and games < 18\n",
    "\n"
   ]
  },
  {
   "cell_type": "code",
   "execution_count": 71,
   "id": "ff57d08e",
   "metadata": {},
   "outputs": [
    {
     "data": {
      "text/html": [
       "<div>\n",
       "<style scoped>\n",
       "    .dataframe tbody tr th:only-of-type {\n",
       "        vertical-align: middle;\n",
       "    }\n",
       "\n",
       "    .dataframe tbody tr th {\n",
       "        vertical-align: top;\n",
       "    }\n",
       "\n",
       "    .dataframe thead th {\n",
       "        text-align: right;\n",
       "    }\n",
       "</style>\n",
       "<table border=\"1\" class=\"dataframe\">\n",
       "  <thead>\n",
       "    <tr style=\"text-align: right;\">\n",
       "      <th></th>\n",
       "      <th>dates</th>\n",
       "      <th>results</th>\n",
       "      <th>count</th>\n",
       "      <th>games</th>\n",
       "      <th>percentage</th>\n",
       "    </tr>\n",
       "  </thead>\n",
       "  <tbody>\n",
       "    <tr>\n",
       "      <th>0</th>\n",
       "      <td>2020-07-13</td>\n",
       "      <td>win</td>\n",
       "      <td>5.0</td>\n",
       "      <td>11.0</td>\n",
       "      <td>45.454548</td>\n",
       "    </tr>\n",
       "    <tr>\n",
       "      <th>1</th>\n",
       "      <td>2020-07-15</td>\n",
       "      <td>win</td>\n",
       "      <td>2.0</td>\n",
       "      <td>7.0</td>\n",
       "      <td>28.571430</td>\n",
       "    </tr>\n",
       "    <tr>\n",
       "      <th>2</th>\n",
       "      <td>2020-12-01</td>\n",
       "      <td>win</td>\n",
       "      <td>1.0</td>\n",
       "      <td>3.0</td>\n",
       "      <td>33.333336</td>\n",
       "    </tr>\n",
       "    <tr>\n",
       "      <th>3</th>\n",
       "      <td>2020-12-03</td>\n",
       "      <td>win</td>\n",
       "      <td>3.0</td>\n",
       "      <td>5.0</td>\n",
       "      <td>60.000004</td>\n",
       "    </tr>\n",
       "    <tr>\n",
       "      <th>4</th>\n",
       "      <td>2020-12-04</td>\n",
       "      <td>win</td>\n",
       "      <td>2.0</td>\n",
       "      <td>2.0</td>\n",
       "      <td>100.000000</td>\n",
       "    </tr>\n",
       "  </tbody>\n",
       "</table>\n",
       "</div>"
      ],
      "text/plain": [
       "        dates results  count  games  percentage\n",
       "0  2020-07-13     win    5.0   11.0   45.454548\n",
       "1  2020-07-15     win    2.0    7.0   28.571430\n",
       "2  2020-12-01     win    1.0    3.0   33.333336\n",
       "3  2020-12-03     win    3.0    5.0   60.000004\n",
       "4  2020-12-04     win    2.0    2.0  100.000000"
      ]
     },
     "execution_count": 71,
     "metadata": {},
     "output_type": "execute_result"
    }
   ],
   "source": [
    "df_agg.head()\n",
    "# print(df_agg['games'].sum())"
   ]
  },
  {
   "cell_type": "code",
   "execution_count": 60,
   "id": "acb5a98a",
   "metadata": {},
   "outputs": [],
   "source": [
    "%sql df_average << select games, avg(percentage) \\\n",
    "from df_agg \\\n",
    "group by games"
   ]
  },
  {
   "cell_type": "code",
   "execution_count": 68,
   "id": "18d660aa",
   "metadata": {},
   "outputs": [],
   "source": [
    "%sql df_count << select games, count(games) \\\n",
    "from df_agg \\\n",
    "group by games"
   ]
  },
  {
   "cell_type": "code",
   "execution_count": 76,
   "id": "9cf2a179",
   "metadata": {},
   "outputs": [],
   "source": [
    "%sql df_overall_avg << select sum(count)/sum(games)*100 as overall \\\n",
    "from df_agg \n"
   ]
  },
  {
   "cell_type": "code",
   "execution_count": 77,
   "id": "6afea913",
   "metadata": {},
   "outputs": [
    {
     "data": {
      "text/html": [
       "<div>\n",
       "<style scoped>\n",
       "    .dataframe tbody tr th:only-of-type {\n",
       "        vertical-align: middle;\n",
       "    }\n",
       "\n",
       "    .dataframe tbody tr th {\n",
       "        vertical-align: top;\n",
       "    }\n",
       "\n",
       "    .dataframe thead th {\n",
       "        text-align: right;\n",
       "    }\n",
       "</style>\n",
       "<table border=\"1\" class=\"dataframe\">\n",
       "  <thead>\n",
       "    <tr style=\"text-align: right;\">\n",
       "      <th></th>\n",
       "      <th>overall</th>\n",
       "    </tr>\n",
       "  </thead>\n",
       "  <tbody>\n",
       "    <tr>\n",
       "      <th>0</th>\n",
       "      <td>52.952953</td>\n",
       "    </tr>\n",
       "  </tbody>\n",
       "</table>\n",
       "</div>"
      ],
      "text/plain": [
       "     overall\n",
       "0  52.952953"
      ]
     },
     "execution_count": 77,
     "metadata": {},
     "output_type": "execute_result"
    }
   ],
   "source": [
    "df_overall_avg.head()"
   ]
  },
  {
   "cell_type": "code",
   "execution_count": 61,
   "id": "a6890b4a",
   "metadata": {},
   "outputs": [
    {
     "data": {
      "text/html": [
       "<div>\n",
       "<style scoped>\n",
       "    .dataframe tbody tr th:only-of-type {\n",
       "        vertical-align: middle;\n",
       "    }\n",
       "\n",
       "    .dataframe tbody tr th {\n",
       "        vertical-align: top;\n",
       "    }\n",
       "\n",
       "    .dataframe thead th {\n",
       "        text-align: right;\n",
       "    }\n",
       "</style>\n",
       "<table border=\"1\" class=\"dataframe\">\n",
       "  <thead>\n",
       "    <tr style=\"text-align: right;\">\n",
       "      <th></th>\n",
       "      <th>games</th>\n",
       "      <th>avg(percentage)</th>\n",
       "    </tr>\n",
       "  </thead>\n",
       "  <tbody>\n",
       "    <tr>\n",
       "      <th>0</th>\n",
       "      <td>11.0</td>\n",
       "      <td>51.515153</td>\n",
       "    </tr>\n",
       "    <tr>\n",
       "      <th>1</th>\n",
       "      <td>7.0</td>\n",
       "      <td>50.649353</td>\n",
       "    </tr>\n",
       "    <tr>\n",
       "      <th>2</th>\n",
       "      <td>3.0</td>\n",
       "      <td>43.333337</td>\n",
       "    </tr>\n",
       "    <tr>\n",
       "      <th>3</th>\n",
       "      <td>5.0</td>\n",
       "      <td>46.666668</td>\n",
       "    </tr>\n",
       "    <tr>\n",
       "      <th>4</th>\n",
       "      <td>2.0</td>\n",
       "      <td>68.750000</td>\n",
       "    </tr>\n",
       "  </tbody>\n",
       "</table>\n",
       "</div>"
      ],
      "text/plain": [
       "   games  avg(percentage)\n",
       "0   11.0        51.515153\n",
       "1    7.0        50.649353\n",
       "2    3.0        43.333337\n",
       "3    5.0        46.666668\n",
       "4    2.0        68.750000"
      ]
     },
     "execution_count": 61,
     "metadata": {},
     "output_type": "execute_result"
    }
   ],
   "source": [
    "df_average.head()"
   ]
  },
  {
   "cell_type": "code",
   "execution_count": 62,
   "id": "61ab3834",
   "metadata": {},
   "outputs": [
    {
     "data": {
      "text/plain": [
       "<BarContainer object of 15 artists>"
      ]
     },
     "execution_count": 62,
     "metadata": {},
     "output_type": "execute_result"
    },
    {
     "data": {
      "image/png": "[encoded data removed]",
      "text/plain": [
       "<Figure size 432x288 with 1 Axes>"
      ]
     },
     "metadata": {
      "needs_background": "light"
     },
     "output_type": "display_data"
    }
   ],
   "source": [
    "import matplotlib.pyplot as plt\n",
    "\n",
    "plt.bar(df_average['games'], df_average['avg(percentage)'])"
   ]
  },
  {
   "cell_type": "code",
   "execution_count": 69,
   "id": "2176027d",
   "metadata": {},
   "outputs": [
    {
     "data": {
      "text/plain": [
       "<BarContainer object of 15 artists>"
      ]
     },
     "execution_count": 69,
     "metadata": {},
     "output_type": "execute_result"
    },
    {
     "data": {
      "image/png": "[encoded data removed]",
      "text/plain": [
       "<Figure size 432x288 with 1 Axes>"
      ]
     },
     "metadata": {
      "needs_background": "light"
     },
     "output_type": "display_data"
    }
   ],
   "source": [
    "import matplotlib.pyplot as plt\n",
    "\n",
    "plt.bar(df_count['games'], df_count['count(games)'])"
   ]
  },
  {
   "cell_type": "markdown",
   "id": "03383674",
   "metadata": {},
   "source": [
    "### Performance questions:\n",
    " #### - does performance change with games per day ?\n",
    " #### - is performance impacted by the puzzles done in a day ?\n",
    " #### - does consistency have impact on performance ?\n",
    " #### - "
   ]
  },
  {
   "cell_type": "code",
   "execution_count": 3,
   "id": "b9403fdf",
   "metadata": {},
   "outputs": [
    {
     "name": "stdout",
     "output_type": "stream",
     "text": [
      "<Response [404]>\n",
      "{\"status\":\"error\",\"message\":\"Resource not found.\",\"code\":9,\"more_info\":\"https:\\/\\/api.chess.com\\/codes#9\"}\n"
     ]
    }
   ],
   "source": [
    "import requests\n",
    "\n",
    "api_link = \"https://api.chess.com/pub\"\n",
    "\n",
    "a = requests.get(api_link)\n",
    "print(a)\n",
    "print(a.text)"
   ]
  },
  {
   "cell_type": "code",
   "execution_count": 4,
   "id": "681c907d",
   "metadata": {},
   "outputs": [
    {
     "name": "stdout",
     "output_type": "stream",
     "text": [
      "b'\\n\\n\\n\\n\\n\\n\\n\\n\\n\\n\\n\\n\\n\\n<!DOCTYPE html>\\n<html\\n  xmlns=\"http://www.w3.org/1999/xhtml\"\\n  xml:lang=\"en-US\"\\n  lang=\"en-US\"\\n  dir=\"ltr\"\\n  xmlns:fb=\"http://ogp.me/ns/fb#\" xmlns:og=\"http://ogp.me/ns#\"\\n  class=\"shiftless-scrollbar  user-logged-out\">\\n\\n<head prefix=\"og: http://ogp.me/ns# fb: http://ogp.me/ns/fb# game: http://ogp.me/ns/game#\">\\n        <meta charset=\"utf-8\" />\\n    <meta name=\"ROBOTS\" content=\"NOODP\" />\\n    <meta name=\"ROBOTS\" content=\"NOYDIR\" />\\n          <meta name=\"ROBOTS\" content=\"NOINDEX\" />\\n        <meta name=\"verify-v1\" content=\"TgxixMKtxcQ+9NUdD7grKbzw3tAl3iJWlTPSPKt9t0I=\" />\\n    <meta name=\"p:domain_verify\" content=\"314c7ba9469cc171a12a46b43e0e2aed\" />\\n    <meta name=\"google-site-verification\" content=\"n7BdKb0xn1E9tRJXvmMxE3Ynr-QajBOi1yA1srT4Nrc\" />\\n\\n      \\n          \\n        <meta name=\"viewport\" content=\"width=device-width, initial-scale=1, minimum-scale=1\">\\n  \\n    <link rel=\"preconnect\" href=\"//www.chess.com\">\\n  <link rel=\"preconnect\" href=\"//images.chesscomfiles.com\">\\n\\n    <link rel=\"dns-prefetch\" href=\"//www.chess.com\">\\n  <link rel=\"dns-prefetch\" href=\"//images.chesscomfiles.com\">\\n\\n      <link rel=\"preconnect\" href=\"https://config.playwire.com\" crossorigin/>\\n<link rel=\"preconnect\" href=\"https://cdn.intergi.com\" crossorigin/>\\n<link rel=\"preconnect\" href=\"https://cdn.intergient.com\" crossorigin/>\\n<link rel=\"preconnect\" href=\"https://securepubads.g.doubleclick.net\" crossorigin/>\\n<link rel=\"preconnect\" href=\"https://cdn.playwire.com\" crossorigin/>\\n<link rel=\"preconnect\" href=\"https://z.moatads.com\" crossorigin/>\\n  \\n    \\n<link\\n  as=\"font\"\\n  crossorigin=\"crossorigin\"\\n  href=\"/bundles/web/fonts/chessglyph-v3/chessglyph-v3.0e06d716.woff2\"\\n  rel=\"preload\"\\n  type=\"font/woff2\">\\n\\n<link\\n  as=\"font\"\\n  crossorigin=\"crossorigin\"\\n  href=\"/bundles/web/fonts/montserrat-700.2213e098.woff2\"\\n  rel=\"preload\"\\n  type=\"font/woff2\">\\n\\n<link\\n  as=\"font\"\\n  crossorigin=\"crossorigin\"\\n  href=\"/bundles/web/fonts/montserrat-800.2d88ac8b.woff2\"\\n  rel=\"preload\"\\n  type=\"font/woff2\">\\n\\n    \\n  \\n  \\n  <link rel=\"icon\" href=\"/bundles/web/favicons/favicon.8c2255ae.ico\" sizes=\"any\">\\n\\n  <link rel=\"icon\" href=\"/bundles/web/favicons/favicon.11c6b6d5.svg\" type=\"image/svg+xml\">\\n\\n  <link rel=\"apple-touch-icon\" sizes=\"180x180\" href=\"/bundles/web/favicons/apple-touch-icon.f72d3fd3.png\">\\n\\n  <link rel=\"mask-icon\" href=\"/bundles/web/favicons/safari-pinned-tab.1bf62bbf.svg\" color=\"#4E7838\">\\n\\n    \\n\\n\\n      \\n  \\n  \\n  \\n  \\n      <link href=\"/bundles/app/css/main.client.1e25d884.css\"\\n      type=\"text/css\"\\n      rel=\"stylesheet\" />\\n  \\n  \\n\\n    \\n  \\n  \\n  \\n  \\n      <link href=\"/bundles/app/css/sprites.client.7535f45a.css\"\\n      type=\"text/css\"\\n      rel=\"stylesheet\" />\\n  \\n  \\n\\n  \\n  \\n      \\n  \\n  \\n  \\n  \\n      <link data-href=\"/bundles/app/css/alerts.client.a672ccf3.css\"\\n      type=\"text/css\"\\n      rel=\"stylesheet\" />\\n  \\n  \\n\\n\\n      \\n  \\n  \\n  \\n  \\n      <link href=\"/bundles/app/css/chess-ads.client.510fb775.css\"\\n      type=\"text/css\"\\n      rel=\"stylesheet\" />\\n  \\n  \\n\\n<meta name=\"language-banner-styles\" content=\"/bundles/app/css/language-banner.client.dcdb10f9.css\">\\n<meta name=\"language-banner-scripts\" content=\"/bundles/app/js/language-banner.client.93020d4e.js\">\\n\\n      \\n  \\n  \\n  \\n  \\n      <link href=\"/bundles/app/css/checkmate.client.69ec9a79.css\"\\n      type=\"text/css\"\\n      rel=\"stylesheet\" />\\n  \\n  \\n\\n      \\n  \\n  \\n  \\n  \\n      <link href=\"/bundles/app/css/ready-to-play-banner.client.f50fbd17.css\"\\n      type=\"text/css\"\\n      rel=\"stylesheet\" />\\n  \\n  \\n\\n      \\n  \\n  \\n  \\n  \\n      <link href=\"/bundles/app/css/cookie-banner.client.69ec9a79.css\"\\n      type=\"text/css\"\\n      rel=\"stylesheet\" />\\n  \\n  \\n\\n      \\n  \\n  \\n  \\n  \\n      <link href=\"/bundles/app/css/navigation.client.0131ca9b.css\"\\n      type=\"text/css\"\\n      rel=\"stylesheet\" />\\n  \\n  \\n\\n\\n\\n  <link\\n    href=\"/bundles/app/css/navigation-footer.client.b51f5407.css\"\\n    type=\"text/css\" rel=\"stylesheet\" />\\n\\n      \\n\\n  \\n      \\n  \\n  \\n  \\n  \\n      <link href=\"/bundles/app/css/layout.client.a025acf4.css\"\\n      type=\"text/css\"\\n      rel=\"stylesheet\" />\\n  \\n  \\n\\n\\n      \\n  \\n  \\n  \\n  \\n      <link href=\"/bundles/app/css/stats.client.1a83d1cc.css\"\\n      type=\"text/css\"\\n      rel=\"stylesheet\" />\\n  \\n  \\n\\n                <link href=\\'https://www.chess.com/dyngenerated/css/1647458809492/101305/1510806856\\' type=\\'text/css\\' rel=\\'stylesheet\\' />\\n\\n            <meta name=\"theme-color\" content=\"#51504d\" />\\n      \\n          \\n  <title>chiopra Chess Puzzles Stats and Rating - Chess.com</title>\\n\\n        \\n            <meta property=\"og:title\" content=\"chiopra Chess Puzzles Stats and Rating\" />\\n\\n          <meta property=\"og:url\" content=\"https://www.chess.com/stats/puzzles/chiopra\" />\\n\\n          <meta property=\"fb:app_id\" content=\"2427617054\" />\\n\\n          <meta property=\"og:type\" content=\"website\" />\\n\\n          <meta property=\"og:image\" content=\"https://www.chess.com/share/stats/chiopra\" />\\n\\n          <meta property=\"og:site_name\" content=\"Chess.com\" />\\n\\n  \\n    \\n          <meta name=\"twitter:title\" content=\"chiopra Chess Puzzles Stats and Rating\" />\\n\\n          <meta name=\"twitter:card\" content=\"summary_large_image\" />\\n\\n          <meta name=\"twitter:site\" content=\"@chesscom\" />\\n\\n          <meta name=\"twitter:image\" content=\"https://www.chess.com/share/stats/chiopra\" />\\n\\n  \\n  \\n          \\n        <link rel=\"canonical\" href=\"https://www.chess.com/stats/puzzles/chiopra\">\\n  \\n    \\n              \\n    \\n    <link rel=\"manifest\" href=\"/manifest.json\" crossorigin=\"use-credentials\">\\n\\n      \\n  \\n        \\n  \\n        \\n\\n      <script>\\n      window.dataLayer = window.dataLayer || [];\\n      function gtag(){ dataLayer.push(arguments); }\\n      (function(w,d,s,l,i){w[l]=w[l]||[];w[l].push({\\'gtm.start\\':new Date().getTime(),event:\\'gtm.js\\'});var f=d.getElementsByTagName(s)[0],j=d.createElement(s),dl=l!=\\'dataLayer\\'?\\'&l=\\'+l:\\'\\';j.async=true;j.src=\\'https://www.googletagmanager.com/gtm.js?id=\\'+i+dl;f.parentNode.insertBefore(j,f);})(window,document,\\'script\\',\\'dataLayer\\',\\'GTM-WQJVC73\\');</script>\\n  \\n  \\n  \\n  <script>\\nwindow.chesscom = window.chesscom || {};\\n\\n\\n  \\n\\n                                                                                                                                                                                                                                                                                                                                                                                                                                                                                                                        \\nwindow.chesscom.features = [\\'ads_playwire_ramp\\', \\'amplitude_domain_proxy\\', \\'amplitude_onboarding_step_complete\\', \\'chessboard_beta\\', \\'chessboard_board_images_palette\\', \\'client_chessboard_layout_beta\\', \\'email_available_action\\', \\'engine_animation_fix\\', \\'evaluation_line_empty_fix\\', \\'events_search_v2\\', \\'friends_invite_links_update_metadata\\', \\'friends_page_product\\', \\'gift_modal_products_refactor\\', \\'gift_modal_tax_included_redirect\\', \\'hidden_nav_search_optimization\\', \\'home_hide_activity_optimization\\', \\'home_hide_awards_optimization\\', \\'home_hide_clubs_and_club_events_optimization\\', \\'home_hide_friends_optimization\\', \\'home_hide_leagues_optimization\\', \\'home_hide_stats_optimization\\', \\'home_hide_streamers_optimization\\', \\'home_hide_tournaments_optimization\\', \\'home_game_review_optimization\\', \\'home_league_optimization\\', \\'home_play_vs_bot\\', \\'home_promo_cache_puzzle_data\\', \\'home_puzzle_optimization\\', \\'home_re_add_quick_links\\', \\'home_re_add_old_features\\', \\'home_settings_add_leagues\\', \\'is_enabled_quick_search\\', \\'marketing_banners\\', \\'marketing_middleware_serverside_device_id_generation\\', \\'new_gifting_experience\\', \\'new_lesson_complete_modal\\', \\'new_tv_custom_html_modal\\', \\'new_user_report_modal\\', \\'free_trial_object_in_js_context\\', \\'payments_donation_3ds2\\', \\'payments_paypal_upgrade\\', \\'payments_pre_september_price_change\\', \\'puzzle_battle_challenges_callback_reduction\\', \\'rebuild_confirm_popover_articles\\', \\'rebuild_confirm_popover_clubs\\', \\'refactored_vml_web_component\\', \\'sanction_russia_flag\\', \\'subscription_status_modal\\', \\'toaster_center_rcn_offline_challenges\\', \\'vue_3_mount_component_util\\', \\'vue_3_shallow_ref_openings_chart\\'];\\n</script>\\n\\n      <script>\\n  window.chesscom = window.chesscom || {};\\n\\n  // Before adding global experiments please check in #experiments_chat slack channel for the performance costs\\n  \\n  \\n      window.chesscom.experiments = {}\\n  </script>\\n  </head>\\n\\n\\n\\n  \\n    \\n  \\n  \\n\\n\\n<body class=\" dark-mode \"  onkeydown=\"if (event.keyCode === 9) this.classList.add(\\'keyboard-navigation-in-use\\')\"\\nonmousedown=\"this.classList.remove(\\'keyboard-navigation-in-use\\')\"\\n>\\n  <noscript><iframe src=\"https://www.googletagmanager.com/ns.html?id=GTM-WQJVC73\"height=\"0\" width=\"0\" style=\"display:none;visibility:hidden\"></iframe></noscript>\\n      <div class=\"base-layout\">\\n                                            <div class=\"base-sidebar\">\\n          \\n  \\n\\n\\n\\n<div id=\"login-register-modal\"></div>\\n\\n<div id=\"shareable-game-url-modal\"></div>\\n\\n<div id=\"message-modal\"></div>\\n\\n<div id=\"first-time-modal\"></div>\\n\\n<div id=\"achievements-modal\"></div>\\n\\n<div id=\"puzzle-battle-challenge-toaster\"></div>\\n\\n<div id=\"leagues-division-started-modal\"></div>\\n\\n\\n  <div id=\"offline-challenge-toaster\" data-badge=\"challenges\" data-badge-count=\"0\"></div>\\n\\n  <div id=\"old-browser-modal\"></div>\\n\\n\\n\\n<div\\n  id=\"sb\"\\n  style=\"\"\\n  class=\"nav-component guest\"\\n  data-constant-message-unread-count-max=\"100\"\\n  data-notifications-limit=\"200\"\\n  data-route-login-and-go=\"https://www.chess.com/login_and_go\"\\n  data-route-register=\"https://www.chess.com/register\">\\n    <div id=\"sb-cover\" data-mobile-nav-toggle></div>\\n\\n    <div class=\"nav-action toggle close\" data-mobile-nav-toggle>\\n    <span class=\"icon-font-chess x\"></span>\\n  </div>\\n\\n    <div data-nav-top>\\n    \\n        <a\\n      aria-label=\"Chess.com - Play Chess Online\"\\n      class=\"nav-link-component nav-link-main-design chess-logo-wrapper sprite chess-logo no-panel\"\\n      data-nav-link=\"home\"\\n      data-amplitude-nav-selection=\"home\"\\n      href=\"https://www.chess.com/\"\\n      target=\"_self\">\\n      <span class=\"nav-link-text mobile-only\">Home</span>\\n\\n              \\n                  <span class=\"navigation-badge-next\" data-badge=\"alerts\" data-badge-count=\"0\"></span>\\n                  </a>\\n    \\n    \\n        \\n        <a\\n      class=\"nav-link-component nav-link-main-design nav-link-top-level sprite play-top\"\\n      data-amplitude-nav-selection=\"play\"\\n      data-nav-link=\"play\"\\n      href=\"https://www.chess.com/play\"\\n      target=\"_self\">\\n      <span class=\"nav-link-text\">Play</span>\\n              <span class=\"navigation-badge-next\" data-badge=\"games\" data-badge-count=\"0\"></span>\\n          </a>\\n    \\n        \\n    <div\\n      class=\"nav-panel-component\"\\n      data-nav-panel=\"play\"\\n      data-routes=\"{&quot;leaderboard&quot;:&quot;https:\\\\/\\\\/www.chess.com\\\\/leaderboard&quot;,&quot;live&quot;:&quot;https:\\\\/\\\\/www.chess.com\\\\/live&quot;,&quot;daily&quot;:&quot;https:\\\\/\\\\/www.chess.com\\\\/play\\\\/online\\\\/daily&quot;,&quot;computer&quot;:&quot;https:\\\\/\\\\/www.chess.com\\\\/play\\\\/computer&quot;,&quot;playOnline&quot;:&quot;https:\\\\/\\\\/www.chess.com\\\\/play\\\\/online&quot;,&quot;playPage&quot;:&quot;https:\\\\/\\\\/www.chess.com\\\\/play&quot;,&quot;playFriend&quot;:&quot;https:\\\\/\\\\/www.chess.com\\\\/play\\\\/online\\\\/friend&quot;,&quot;puzzleBattle&quot;:&quot;https:\\\\/\\\\/www.chess.com\\\\/puzzles\\\\/battle&quot;,&quot;puzzles&quot;:&quot;https:\\\\/\\\\/www.chess.com\\\\/puzzles\\\\/rush&quot;,&quot;tournamentsPlay&quot;:&quot;https:\\\\/\\\\/www.chess.com\\\\/play\\\\/online\\\\/tournaments&quot;,&quot;tournaments&quot;:&quot;https:\\\\/\\\\/www.chess.com\\\\/tournaments&quot;,&quot;library&quot;:&quot;https:\\\\/\\\\/www.chess.com\\\\/library&quot;,&quot;gameArchive&quot;:&quot;https:\\\\/\\\\/www.chess.com\\\\/games\\\\/archive&quot;,&quot;variants&quot;:&quot;https:\\\\/\\\\/www.chess.com\\\\/variants&quot;}\">\\n    </div>\\n    \\n        <a\\n      class=\"nav-link-component nav-link-main-design nav-link-top-level sprite puzzles-top\"\\n      data-amplitude-nav-selection=\"puzzles\"\\n      data-nav-link=\"puzzles\"\\n      href=\"https://www.chess.com/puzzles\"\\n      target=\"_self\">\\n      <span class=\"nav-link-text\">Puzzles</span>\\n    </a>\\n    \\n        \\n    <div\\n      class=\"nav-panel-component\"\\n      data-nav-panel=\"puzzles\"\\n      data-routes=\"{&quot;dailyPuzzle&quot;:&quot;https:\\\\/\\\\/www.chess.com\\\\/daily-chess-puzzle&quot;,&quot;drills&quot;:&quot;https:\\\\/\\\\/www.chess.com\\\\/drills&quot;,&quot;endgames&quot;:&quot;https:\\\\/\\\\/www.chess.com\\\\/endgames&quot;,&quot;practice&quot;:&quot;https:\\\\/\\\\/www.chess.com\\\\/practice&quot;,&quot;puzzleBattle&quot;:&quot;https:\\\\/\\\\/www.chess.com\\\\/puzzles\\\\/battle&quot;,&quot;puzzlesCustom&quot;:&quot;https:\\\\/\\\\/www.chess.com\\\\/puzzles\\\\/learning&quot;,&quot;puzzlesRush&quot;:&quot;https:\\\\/\\\\/www.chess.com\\\\/puzzles\\\\/rush&quot;,&quot;puzzlesRated&quot;:&quot;https:\\\\/\\\\/www.chess.com\\\\/puzzles\\\\/rated&quot;,&quot;tactics&quot;:&quot;https:\\\\/\\\\/www.chess.com\\\\/puzzles&quot;,&quot;soloChess&quot;:&quot;https:\\\\/\\\\/www.chess.com\\\\/solo-chess&quot;}\">\\n    </div>\\n    \\n        <a\\n      class=\"nav-link-component nav-link-main-design nav-link-top-level sprite learn-top\"\\n      data-amplitude-nav-selection=\"learn\"\\n      data-nav-link=\"learn\"\\n      href=\"https://www.chess.com/learn\"\\n      target=\"_self\">\\n      <span class=\"nav-link-text\">Learn</span>\\n    </a>\\n    \\n        \\n    <div\\n      class=\"nav-panel-component\"\\n      data-nav-panel=\"learn\"\\n      data-routes=\"{&quot;analysis&quot;:&quot;https:\\\\/\\\\/www.chess.com\\\\/analysis&quot;,&quot;classroom&quot;:&quot;https:\\\\/\\\\/www.chess.com\\\\/classroom&quot;,&quot;endgames&quot;:&quot;https:\\\\/\\\\/www.chess.com\\\\/endgames&quot;,&quot;insights&quot;:&quot;https:\\\\/\\\\/www.chess.com\\\\/insights&quot;,&quot;lessons&quot;:&quot;https:\\\\/\\\\/www.chess.com\\\\/lessons&quot;,&quot;openings&quot;:&quot;https:\\\\/\\\\/www.chess.com\\\\/openings&quot;,&quot;practice&quot;:&quot;https:\\\\/\\\\/www.chess.com\\\\/practice&quot;}\">\\n    </div>\\n    \\n        \\n    <a\\n      class=\"nav-link-component nav-link-main-design nav-link-top-level sprite watch-top\"\\n      data-amplitude-nav-selection=\"watch\"\\n      data-nav-link=\"watch\"\\n      href=\"https://www.chess.com/watch\"\\n      target=\"_self\">\\n      <span class=\"nav-link-text\">Watch</span>\\n    </a>\\n    \\n        \\n    <div\\n      class=\"nav-panel-component\"\\n      data-nav-panel=\"watch\"\\n      data-routes=\"{&quot;chessToday&quot;:&quot;https:\\\\/\\\\/www.chess.com\\\\/today&quot;,&quot;computerChampionship&quot;:&quot;https:\\\\/\\\\/www.chess.com\\\\/computer-chess-championship&quot;,&quot;events&quot;:&quot;https:\\\\/\\\\/www.chess.com\\\\/events&quot;,&quot;news&quot;:&quot;https:\\\\/\\\\/www.chess.com\\\\/news&quot;,&quot;proChessLeague&quot;:&quot;http:\\\\/\\\\/www.prochessleague.com&quot;,&quot;streamers&quot;:&quot;https:\\\\/\\\\/www.chess.com\\\\/streamers&quot;}\">\\n    </div>\\n    \\n        <a\\n      class=\"nav-link-component nav-link-main-design nav-link-top-level sprite news-top\"\\n      data-amplitude-nav-selection=\"news\"\\n      data-nav-link=\"news\"\\n      href=\"https://www.chess.com/today\"\\n      target=\"_self\">\\n      <span class=\"nav-link-text\">News</span>\\n    </a>\\n\\n    \\n    <div\\n      class=\"nav-panel-component\"\\n      data-nav-panel=\"news\"\\n      data-routes=\"{&quot;articles&quot;:&quot;https:\\\\/\\\\/www.chess.com\\\\/articles&quot;,&quot;chessToday&quot;:&quot;https:\\\\/\\\\/www.chess.com\\\\/today&quot;,&quot;liveRankings&quot;:&quot;https:\\\\/\\\\/www.chess.com\\\\/ratings&quot;,&quot;news&quot;:&quot;https:\\\\/\\\\/www.chess.com\\\\/news&quot;,&quot;topPlayers&quot;:&quot;https:\\\\/\\\\/www.chess.com\\\\/players&quot;}\">\\n    </div>\\n    \\n        <a\\n      class=\"nav-link-component nav-link-main-design nav-link-top-level sprite social-page\"\\n      data-amplitude-nav-selection=\"social\"\\n      data-nav-link=\"social\"\\n      href=\"https://www.chess.com/social\"\\n      target=\"_self\">\\n      <span class=\"nav-link-text\">Social</span>\\n          </a>\\n    \\n    \\n    <div\\n      class=\"nav-panel-component\"\\n      data-nav-panel=\"social\"\\n      data-routes=\"{&quot;articles&quot;:&quot;https:\\\\/\\\\/www.chess.com\\\\/articles&quot;,&quot;news&quot;:&quot;https:\\\\/\\\\/www.chess.com\\\\/news&quot;,&quot;forums&quot;:&quot;https:\\\\/\\\\/www.chess.com\\\\/forum&quot;,&quot;blogs&quot;:&quot;https:\\\\/\\\\/www.chess.com\\\\/blogs&quot;,&quot;clubs&quot;:&quot;https:\\\\/\\\\/www.chess.com\\\\/clubs&quot;,&quot;friends&quot;:&quot;https:\\\\/\\\\/www.chess.com\\\\/friends&quot;,&quot;members&quot;:&quot;https:\\\\/\\\\/www.chess.com\\\\/members&quot;,&quot;coaches&quot;:&quot;https:\\\\/\\\\/www.chess.com\\\\/coaches&quot;}\">\\n    </div>\\n\\n          <button\\n        aria-label=\"More\"\\n        class=\"nav-link-component nav-link-main-design nav-link-button nav-link-top-level sprite more-top\"\\n        data-amplitude-nav-selection=\"more\"\\n        goto=\"https://www.chess.com/more\"\\n        data-nav-link=\"more\">\\n        <span class=\"nav-link-text\">More</span>\\n      </button>\\n    \\n        \\n    <div\\n      class=\"nav-panel-component\"\\n      data-nav-panel=\"more\"\\n      data-routes=\"{&quot;computerChampionship&quot;:&quot;https:\\\\/\\\\/www.chess.com\\\\/computer-chess-championship&quot;,&quot;explorer&quot;:&quot;https:\\\\/\\\\/www.chess.com\\\\/explorer&quot;,&quot;gift&quot;:&quot;https:\\\\/\\\\/www.chess.com\\\\/membership\\\\/gift&quot;,&quot;library&quot;:&quot;https:\\\\/\\\\/www.chess.com\\\\/library&quot;,&quot;masterGames&quot;:&quot;https:\\\\/\\\\/www.chess.com\\\\/games&quot;,&quot;mobileApps&quot;:&quot;https:\\\\/\\\\/www.chess.com\\\\/play\\\\/apps&quot;,&quot;resourcesPage&quot;:&quot;https:\\\\/\\\\/www.chess.com\\\\/resources&quot;,&quot;rules&quot;:&quot;https:\\\\/\\\\/www.chess.com\\\\/learn-how-to-play-chess&quot;,&quot;soloChess&quot;:&quot;https:\\\\/\\\\/www.chess.com\\\\/solo-chess&quot;,&quot;terms&quot;:&quot;https:\\\\/\\\\/www.chess.com\\\\/terms&quot;,&quot;verified&quot;:&quot;https:\\\\/\\\\/www.chess.com\\\\/verified&quot;,&quot;videos&quot;:&quot;https:\\\\/\\\\/www.chess.com\\\\/videos&quot;,&quot;vision&quot;:&quot;https:\\\\/\\\\/www.chess.com\\\\/vision&quot;,&quot;voteChess&quot;:&quot;https:\\\\/\\\\/www.chess.com\\\\/votechess&quot;}\">\\n    </div>\\n    \\n    \\n    \\n              \\n                  \\n      <a\\n        id=\"menu-cta\"\\n        data-amplitude-props=\"{&quot;source&quot;:&quot;Unknown&quot;}\"\\n        href=\"https://www.chess.com/register?returnUrl=https://www.chess.com/stats/puzzles/chiopra\"\\n        target=\"_self\"\\n        rel=\"nofollow\"\\n        class=\"button auth signup register ui_v5-button-component ui_v5-button-basic-dark authentication-modal-trigger\">\\n        <span class=\"icon-font-chess icon user-plus\"></span>\\n\\n        <span class=\"label\">Sign Up</span>\\n      </a>\\n      \\n            <a\\n        href=\"https://www.chess.com/login_and_go?returnUrl=https://www.chess.com/stats/puzzles/chiopra\"\\n        target=\"_self\"\\n        rel=\"nofollow\"\\n        class=\"button auth login ui_v5-button-component ui_v5-button-primary login-modal-trigger\">\\n        <span class=\"icon-font-chess icon enter\"></span>\\n\\n        <span class=\"label\">Log In</span>\\n      </a>\\n                </div>\\n    <div class=\"nav-menu-area\">\\n              <button\\n        aria-label=\"Change language\"\\n        class=\"nav-action language-select\"\\n        type=\"button\">\\n        <span class=\"icon-font-chess nav-language-icon globe\"></span>\\n\\n        <span class=\"nav-link-text nav-language-name\">\\n          English\\n        </span>\\n      </button>\\n        \\n            \\n                  <button\\n        aria-label=\"Light/Dark Interface\"\\n        class=\"nav-action ui-mode\"\\n        data-amplitude-nav-selection=\"subnav-uimode\"\\n        data-nav-ui-mode\\n        type=\"button\">\\n        <div id=\"mode\">\\n          <span class=\"icon-font-chess darklight\"></span>\\n        </div>\\n\\n        <span class=\"nav-link-text\">\\n          <span class=\"light\">Light UI</span>\\n          <span class=\"dark\">Dark UI</span>\\n        </span>\\n      </button>\\n        \\n            \\n            \\n        <button\\n      type=\"button\"\\n      aria-label=\"Help\"\\n      class=\"nav-action has-popover help\"\\n      data-amplitude-nav-selection=\"subnav-help\"\\n      type=\"button\">\\n      <span class=\"icon-font-chess circle-question\"></span>\\n\\n      <span class=\"nav-link-text\">Help</span>\\n    </button>\\n    \\n        <div class=\"dark nav-popover help\">\\n            <div class=\"arrow\"></div>\\n      \\n            <button\\n        type=\"button\"\\n        class=\"btn-link help-scout\"\\n        data-amplitude-nav-selection=\"subnav-help-askaquestion\">\\n        <span class=\"icon-font-chess circle-question\"></span>\\n\\n        <span class=\"title\">Ask a Question</span>\\n      </button>\\n      \\n            <a\\n        data-amplitude-nav-selection=\"subnav-help-reportabuse\"\\n        class=\"btn-link\"\\n        rel=\"noopener\"\\n        href=\"https://support.chess.com/collection/136-community-safety\"\\n        target=\"_blank\">\\n        <span class=\"icon-font-chess circle-block\"></span>\\n\\n        <span class=\"title\">Report Abuse</span>\\n      </a>\\n      \\n            <button\\n        type=\"button\"\\n        class=\"btn-link user-snap\"\\n        data-amplitude-nav-selection=\"subnav-help-makeasuggestion\">\\n        <span class=\"icon-font-chess lightbulb\"></span>\\n\\n        <span class=\"title\">Make a Suggestion</span>\\n      </button>\\n      \\n            <a\\n        data-amplitude-nav-selection=\"subnav-help-billingissues\"\\n        class=\"btn-link\"\\n        rel=\"noopener\"\\n        href=\"https://support.chess.com/category/135-membership-and-billing\"\\n        target=\"_blank\">\\n        <span class=\"icon-font-chess card\"></span>\\n\\n        <span class=\"title\">Billing Issues</span>\\n      </a>\\n      \\n            <button\\n        type=\"button\"\\n        class=\"btn-link user-snap\"\\n        data-amplitude-nav-selection=\"subnav-help-reportabug\">\\n        <span class=\"icon-font-chess bug\"></span>\\n\\n        <span class=\"title\">Report a Bug</span>\\n      </button>\\n          </div>\\n      </div>\\n  </div>\\n\\n\\n          </div>\\n      \\n            <div class=\"base-container\">\\n        <div id=\"scroll-top-anchor\"></div>\\n\\n                          \\n                          <div id=\"language-banner\"></div>\\n        \\n                            <header id=\"tb\" class=\"toolbar-new-wrapper \">\\n    <div class=\"toolbar-menu-area toolbar-menu-area-left\">\\n        <div class=\"toolbar-action toggle open\" data-mobile-nav-toggle>\\n      <span class=\"icon-font-chess menu toolbar-action-icon\"></span>\\n    </div>\\n    \\n        <a\\n      href=\"https://www.chess.com/\"\\n      class=\"link chess-logo-wrapper sprite chess-logo\"\\n      aria-label=\"Chess.com - Play Chess Online\">\\n    </a>\\n      </div>\\n  \\n          <div class=\"toolbar-menu-area mobile-auth-actions  \">\\n  <a\\n    class=\"mobile-auth-action ui_v5-button-component ui_v5-button-basic-dark ui_v5-button-x-small sign-up-eng\"\\n    href=\"https://www.chess.com/register?returnUrl=https://www.chess.com/stats/puzzles/chiopra\"\\n    rel=\"nofollow\"\\n    title=\"Sign Up\">\\n    Sign Up\\n  </a>\\n\\n  <a\\n    class=\"mobile-auth-action ui_v5-button-component ui_v5-button-primary ui_v5-button-x-small login\"\\n    href=\"https://www.chess.com/login_and_go?returnUrl=https://www.chess.com/stats/puzzles/chiopra\"\\n    rel=\"nofollow\"\\n    title=\"Log In\">\\n    Log In\\n  </a>\\n</div>\\n      </header>\\n        \\n                  \\n  <main class=\"layout-component  \">\\n    \\n    \\n    <div\\n      id=\"vue-instance\"\\n      class=\"layout-column-one\"\\n      data-presence-user-item=\"1\" data-presence-widget-location=\"profile-top\" data-presence-square-size=\"3\" data-presence-precise-status-only=\"1\" data-username=\"chiopra\" data-user-id=\"23322766\" data-user-uuid=\"7a4a2e6e-2f10-11e5-8042-000000000000\" >\\n          \\n\\n<div class=\"v5-section v5-space-bottom profile-header-container\">\\n  <div class=\"v5-section-content-wide\">\\n    <div class=\"profile-header-info\">\\n      <div class=\"profile-header-avatar\">\\n                      \\n      \\n    \\n              \\n          <div\\n          class=\"post-view-meta-avatar\\n       profile-header-user-avatar\"\\n      style=\"width: 16rem; height: 16rem;\">\\n      <img\\n                  alt=\"chiopra\"\\n                class=\"post-view-meta-image \"\\n                height=\"160\"\\n                  src=\"https://images.chesscomfiles.com/uploads/v1/user/23322766.ab3a5f7f.160x160o.ab6b0fc47b2b.jpeg\"\\n          srcset=\"https://images.chesscomfiles.com/uploads/v1/user/23322766.ab3a5f7f.160x160o.ab6b0fc47b2b@2x.jpeg 2x\"\\n                        width=\"160\">\\n\\n              <div data-presence-square-container></div>\\n      \\n                      </div>\\n      \\n              </div>\\n\\n      <div class=\"profile-header-details\">\\n        <div class=\"profile-header-user-info\">\\n          \\n\\n<div class=\"profile-card-user-block\">\\n    \\n\\n  <h1 class=\"profile-card-username \">\\n\\n          <a href=\"https://www.chess.com/member/chiopra\">chiopra</a>\\n      </h1>\\n\\n                      \\n                    \\n      <div\\n        data-cy=\"user-country-flag\"\\n        v-tooltip=\"Lithuania\"\\n        class=\"country-flags-component country-88\\n          country-flags-large\\n          profile-card-flag-img\">\\n      </div>\\n      \\n  \\n           \\n    <div\\n      id=\"user-flair\"\\n      data-can-edit-flair=\"\"\\n      data-is-enabled=\"1\"\\n      data-membership-level=\"10\"\\n      data-username=\"chiopra\"\\n      style=\"display: flex;\">\\n        \\n                      \\n    \\n              \\n    \\n              \\n      \\n\\n    </div>\\n\\n      \\n\\n          <div data-presence-button-container></div>\\n      </div>\\n          \\n          \\n                                    \\n\\n<div class=\"profile-card-info\">\\n                \\n  <div class=\"profile-card-name-location\">\\n          <div class=\"profile-card-name\">mode</div>\\n    \\n          <div class=\"profile-card-location\">\\n        <span class=\"icon-font-chess location profile-card-location-icon\"></span>\\n\\n        <div>\\n          Vilnius\\n        </div>\\n      </div>\\n      </div>\\n\\n      <div\\n      id=\"user-profile-status\"\\n      class=\"profile-card-status\"\\n      data-can-edit-status=\"\">\\n    </div>\\n\\n    <div\\n      data-flair-profile=\"{&quot;id&quot;:11,&quot;code&quot;:&quot;nothing&quot;,&quot;name&quot;:&quot;Nothing&quot;,&quot;description&quot;:&quot;Nothing&quot;,&quot;status&quot;:&quot;&quot;}\"\\n      id=\"flair\">\\n    </div>\\n  \\n      <div class=\"profile-card-user-info\">\\n              <div class=\"profile-card-info-item\">\\n          <span\\n            class=\"icon-font-chess profile-card-info-item-icon pulse\"\\n            v-tooltip=\"Last Online\"></span>\\n\\n          <div\\n            class=\"profile-card-info-item-value\"\\n                          data-presence-last-online-container\\n              data-presence-update-over-time=\"true\"\\n              data-presence-server-time=\"1678746301\"\\n                      ><span v-tooltip=\"Mar 13, 2023, 3:22 PM\">2 min ago</span></div>\\n        </div>\\n              <div class=\"profile-card-info-item\">\\n          <span\\n            class=\"icon-font-chess profile-card-info-item-icon nav-pawn\"\\n            v-tooltip=\"Joined\"></span>\\n\\n          <div\\n            class=\"profile-card-info-item-value\"\\n                      >Jul 20, 2015</div>\\n        </div>\\n              <div class=\"profile-card-info-item\">\\n          <span\\n            class=\"icon-font-chess profile-card-info-item-icon user-chain\"\\n            v-tooltip=\"Followers.\\n32 Views\"></span>\\n\\n          <div\\n            class=\"profile-card-info-item-value\"\\n                      ></div>\\n        </div>\\n              <div class=\"profile-card-info-item\">\\n          <span\\n            class=\"icon-font-chess profile-card-info-item-icon circle-dashboard\"\\n            v-tooltip=\"Points\"></span>\\n\\n          <div\\n            class=\"profile-card-info-item-value\"\\n                      >0</div>\\n        </div>\\n          </div>\\n  </div>\\n                      \\n                  </div>\\n      </div>\\n    </div>\\n\\n    \\n          <div class=\"profile-actions-component\">\\n        <div class=\"profile-actions-all-users-component\">\\n          <button\\n            id=\"give-gift-membership\"\\n            type=\"button\"\\n            class=\"ui_v5-button-component ui_v5-button-basic ui_v5-button-full profile-btn-large-button profile-btn-highlighted\"\\n            data-user-id=\"23322766\"\\n            data-username=\"chiopra\">\\n            <span\\n              class=\"icon-font-chess ui_v5-button-icon gift profile-btn-icon\"\\n              aria-hidden=\"true\"></span>\\n\\n            <span class=\"profile-btn-label\">\\n              Gift\\n            </span>\\n          </button>\\n\\n          <a\\n            href=\"https://www.chess.com/register?returnUrl=https://www.chess.com/_fragment?_path%3D_format%253Dhtml%2526_locale%253Den%2526_controller%253DChess%25255CWebBundle%25255CController%25255CMemberController%25253A%25253AuserCardAction\"\\n            class=\"ui_v5-button-component ui_v5-button-basic ui_v5-button-full profile-btn-large-button\">\\n            <span\\n              class=\"icon-font-chess ui_v5-button-icon chess-board-plus profile-btn-icon\"\\n              aria-hidden=\"true\"></span>\\n\\n            <span class=\"profile-btn-label\">\\n              Challenge\\n            </span>\\n          </a>\\n\\n          <a\\n            href=\"https://www.chess.com/register?returnUrl=https://www.chess.com/_fragment?_path%3D_format%253Dhtml%2526_locale%253Den%2526_controller%253DChess%25255CWebBundle%25255CController%25255CMemberController%25253A%25253AuserCardAction\"\\n            class=\"ui_v5-button-component ui_v5-button-basic ui_v5-button-full profile-btn-large-button\">\\n            <span\\n              class=\"icon-font-chess ui_v5-button-icon mail-plus profile-btn-icon\"\\n              aria-hidden=\"true\"></span>\\n\\n            <span class=\"profile-btn-label\">\\n              Message\\n            </span>\\n          </a>\\n\\n          <a\\n            href=\"https://www.chess.com/register?returnUrl=https://www.chess.com/_fragment?_path%3D_format%253Dhtml%2526_locale%253Den%2526_controller%253DChess%25255CWebBundle%25255CController%25255CMemberController%25253A%25253AuserCardAction\"\\n            class=\"ui_v5-button-component ui_v5-button-basic ui_v5-button-full profile-btn-large-button\">\\n            <span class=\"icon-font-chess ui_v5-button-icon circle-3-dots profile-btn-icon\"></span>\\n\\n            <span class=\"profile-btn-label\" aria-hidden=\"true\">\\n              More\\n            </span>\\n          </a>\\n        </div>\\n      </div>\\n    \\n      </div>\\n\\n  </div>\\n\\n\\n        <div class=\"index-content-ad-wrapper\">\\n      <div\\n        id=\"content-ad\"\\n        class=\"content-ad-content\"\\n        data-position=\"top\"\\n                data-slot-id=\"div-gpt-ad-1555435611194-0\">\\n      </div>\\n    </div>\\n  \\n\\n  \\n\\n  <div\\n    id=\"central-stats-block\"\\n    data-page=\"puzzles\"></div>\\n\\n  <div\\n    id=\"auxilliary-stats-block\"\\n  ></div>\\n    </div>\\n\\n    <div class=\"layout-column-two\">\\n        \\n      <div\\n      id=\"short-sidebar-ad-top\"\\n      class=\"short-sidebar-ad-component short-sidebar-ad-top\"\\n      data-position=\"top\"\\n            data-slot-id=\"div-gpt-ad-1575404635669-0\">\\n    </div>\\n  \\n<div\\n  class=\"v5-section\"\\n  id=\"stats-sidebar\"\\n></div>\\n<div\\n  class=\"v5-section v5-overflow-hidden\"\\n  id=\"stats-leaderboard\"\\n></div>\\n      <div\\n      id=\"short-sidebar-ad-bottom\"\\n      data-position=\"bottom\"\\n      class=\"short-sidebar-ad-bottom\"\\n            data-slot-id=\"div-gpt-ad-1575404459269-0\">\\n    </div>\\n  \\n\\n    </div>\\n  </main>\\n\\n                          \\n<footer id=\"navigation-footer\" class=\"navigation-footer-component navigation-footer-hide \">\\n  <div class=\"navigation-footer-pages-component navigation-footer-left\">\\n    <a href=\"https://support.chess.com\"\\n      class=\"navigation-footer-page-component\"\\n      target=\"_blank\" rel=\"noopener\">\\n      Help\\n    </a>\\n\\n          <a href=\"https://www.chess.com/terms\"\\n        class=\"navigation-footer-page-component\">\\n        Chess Terms\\n      </a>\\n    \\n    \\n          <a href=\"https://www.chess.com/about\"\\n        class=\"navigation-footer-page-component\">\\n        About\\n      </a>\\n    \\n    <a href=\"https://www.chess.com/jobs\"\\n      class=\"navigation-footer-page-component\"\\n      target=\"_blank\">\\n      Jobs\\n    </a>\\n\\n    <a href=\"https://www.chess.com/developers\"\\n      class=\"navigation-footer-page-component\"\\n      target=\"_blank\">\\n      Developers\\n    </a>\\n\\n    <a href=\"https://www.chess.com/legal/user-agreement\"\\n      class=\"navigation-footer-page-component\"\\n      target=\"_blank\">\\n      User Agreement\\n    </a>\\n\\n    <a href=\"https://www.chess.com/legal/privacy\"\\n      class=\"navigation-footer-page-component\"\\n      target=\"_blank\">\\n      Privacy\\n    </a>\\n\\n    <a href=\"https://www.chess.com/legal/fair-play\"\\n      class=\"navigation-footer-page-component\"\\n      target=\"_blank\">\\n      Fair Play\\n    </a>\\n\\n    <a href=\"https://www.chess.com/legal/community\"\\n      class=\"navigation-footer-page-component\"\\n      target=\"_blank\">\\n      Community\\n    </a>\\n\\n    <a href=\"https://www.chess.com/legal/compliance\"\\n      class=\"navigation-footer-page-component\"\\n      target=\"_blank\">\\n      Compliance\\n    </a>\\n\\n    <a href=\"https://www.chess.com/\"\\n      class=\"navigation-footer-page-component\">\\n      Chess.com &copy; 2023\\n    </a>\\n  </div>\\n\\n  <div class=\"navigation-footer-platforms-component\">\\n    <a aria-label=\"App for iOS / iPhone / iPad\"\\n      class=\"navigation-footer-platform-component navigation-footer-platforms-apple\"\\n      href=\"https://www.chess.com/play/apps/ios\">\\n          \\n  <span\\n    class=\"icon-font-chess navigation-footer-platform-icon apple\"\\n    \\n    ></span>\\n\\n    </a>\\n\\n    <a aria-label=\"App for Android\"\\n      class=\"navigation-footer-platform-component navigation-footer-platforms-android navigation-footer-platforms-gutter\"\\n      href=\"https://www.chess.com/play/apps/android\">\\n          \\n  <span\\n    class=\"icon-font-chess navigation-footer-platform-icon android\"\\n    \\n    ></span>\\n\\n    </a>\\n\\n    <a aria-label=\"TikTok\"\\n      class=\"navigation-footer-platform-component navigation-footer-platforms-tiktok\"\\n      href=\"https://www.tiktok.com/@chess\">\\n          \\n  <span\\n    class=\"icon-font-chess navigation-footer-platform-icon tiktok\"\\n    \\n    ></span>\\n\\n    </a>\\n\\n    <a aria-label=\"Twitter\"\\n      class=\"navigation-footer-platform-component navigation-footer-platforms-twitter\"\\n      href=\"https://twitter.com/chesscom\">\\n          \\n  <span\\n    class=\"icon-font-chess navigation-footer-platform-icon twitter\"\\n    \\n    ></span>\\n\\n    </a>\\n\\n    <a aria-label=\"Youtube\"\\n      class=\"navigation-footer-platform-component navigation-footer-platforms-youtube\"\\n      href=\"https://www.youtube.com/user/wwwChesscom\">\\n          \\n  <span\\n    class=\"icon-font-chess navigation-footer-platform-icon youtube\"\\n    \\n    ></span>\\n\\n    </a>\\n\\n    <a aria-label=\"Twitch\"\\n      class=\"navigation-footer-platform-component navigation-footer-platforms-twitch\"\\n      href=\"https://www.twitch.tv/chess\">\\n          \\n  <span\\n    class=\"icon-font-chess navigation-footer-platform-icon twitch\"\\n    \\n    ></span>\\n\\n    </a>\\n\\n    <a aria-label=\"Instagram\"\\n      class=\"navigation-footer-platform-component navigation-footer-platforms-instagram\"\\n      href=\"https://www.instagram.com/wwwchesscom\">\\n          \\n  <span\\n    class=\"icon-font-chess navigation-footer-platform-icon instagram\"\\n    \\n    ></span>\\n\\n    </a>\\n\\n    <a aria-label=\"Discord\"\\n      class=\"navigation-footer-platform-component navigation-footer-platforms-discord\"\\n      href=\"https://discord.gg/3VbUQME\">\\n          \\n  <span\\n    class=\"icon-font-chess navigation-footer-platform-icon discord\"\\n    \\n    ></span>\\n\\n    </a>\\n\\n      </div>\\n</footer>\\n              </div>\\n    </div>\\n  \\n        <script>\\n  window.PubSub = {};\\n  window.PubSub.options = {\\n    environment: \\'prod\\',\\n    url: {\\n              base: \\'https://www.chess.com\\',\\n        baseWss: \\'wss://www.chess.com\\',\\n        chat: \\'https://www.chess.com/service/chat/\\',\\n        classroom: \\'https://www.chess.com/service/classroom/\\',\\n        insights: \\'https://www.chess.com/service/insights/\\',\\n        invitations: \\'https://www.chess.com/service/invitations/\\',\\n        matcher: \\'https://www.chess.com/service/matcher/\\',\\n        game: \\'https://www.chess.com/service/play/\\',\\n        play: \\'https://www.chess.com/service/play/\\',\\n        presence: \\'https://www.chess.com/service/presence/\\',\\n        pubsub: \\'wss://www.chess.com/pubsub\\',\\n        ratings: \\'https://www.chess.com/service/ratings/\\',\\n        reactions: \\'https://www.chess.com/service/reactions/\\',\\n        settings: \\'https://www.chess.com/service/settings/\\',\\n        topplayers: \\'https://www.chess.com/service/topplayers/\\',\\n        gamelist: \\'https://www.chess.com/service/gamelist/\\',\\n        users: \\'\\',\\n          },\\n      };\\n</script>\\n  \\n      \\n  \\n  <div id=\"widget-alert-flash\" class=\"alerts-container\">\\n      </div>\\n\\n\\n    \\n    \\n\\n  <script type=\"text/javascript\">\\n    var Config = {\\n      \"cometd.url\": \"/cometd\",\\n      \"domain.main\": \"//www.chess.com\",\\n      \"domain.static\": \"//www.chess.com\",\\n      \"domain.files\": \"//files.chesscomfiles.com\",\\n      \"domain.live\": \"//live.chess.com\",\\n      \"domain.live2\": \"//live2.chess.com\",\\n      \"domain.live3\": \"//live3.chess.com\",\\n      \"domain.voice\": \"rtmp://voice.chess.com\",\\n      \"domain.cssjs\": \"//www.chess.com\",\\n      \"domain.images\": \"//images.chesscomfiles.com\",\\n      \"domain.avatars\": \"//avatars.chesscomfiles.com\",\\n      \"domain.baseUrl\": \"\",\\n      \"isFacebookCanvas\": false,\\n      \"facebookId\": \"2427617054\",\\n      \"pathToEngineWorker\": \"/bundles/app/js/vendor/jschessengine/stockfish.6983901b.js\",\\n      \"pathToEngineWorkerAlt\": \"/bundles/app/js/engine/stockfish.1de0d633.js\",\\n      \"pathToWasmEngine\": \"/bundles/app/js/vendor/jschessengine/stockfish.6103b42f.bin\",\\n      \"pathToNonWasmEngine\": \"/bundles/app/js/vendor/jschessengine/stockfish.asm.1abfa10c.js\",\\n      \"pathToKomodoWorker\": \"/bundles/app/js/vendor/jschessengine/komodo.9ea31da2.js\",\\n      \"pathToWasmKomodo\": \"/bundles/app/js/vendor/jschessengine/komodo.765d36d5.bin\",\\n      \"pathToNonWasmKomodo\": \"/bundles/app/js/vendor/jschessengine/komodo.asm.b6f18c99.js\",\\n      \"pathToExplanationEngineWorker\": \"/bundles/app/js/vendor/explanation-engine-beta/explanation-engine.1ae02833.js\",\\n      \"pathToWasmExplanationEngine\": \"/bundles/app/js/vendor/explanation-engine-beta/explanation-engine.d17c83ff.wasm\",\\n      \"pathToEcoJson\": \"/bundles/app/js/engine/eco.e2992d83.json\",\\n      \"pathToBook\": \"/bundles/app/js/vendor/jschessengine/books/book.c30917a9.json\",\\n      \"pathToBookSmall\": \"/bundles/app/js/engine/book-small.12a4e48e.json\",\\n      \"pathToWebGL\": \"/bundles/app/js/vendor/webgl_three.61269fce.js\",\\n      \"pathToGamePreviewLoader\": \"/bundles/web/images/game-preview-loading.8677fb94.png\",\\n      \"pathToPersonalityBooks\": {\\n        \"aggressive\": \"/bundles/app/js/vendor/jschessengine/books/personalities/aggressive.50a9b452.bin\",\\n        \"balanced\": \"/bundles/app/js/vendor/jschessengine/books/personalities/balanced.71d69282.bin\",\\n        \"beginner\": \"/bundles/app/js/vendor/jschessengine/books/personalities/beginner.f122c7c5.bin\",\\n        \"classical\": \"/bundles/app/js/vendor/jschessengine/books/personalities/classical.2e31ad51.bin\",\\n        \"f-pawner\": \"/bundles/app/js/vendor/jschessengine/books/personalities/f-pawner.bb8a15f1.bin\",\\n        \"fischer\": \"/bundles/app/js/vendor/jschessengine/books/personalities/fischer.c93e412d.bin\",\\n        \"gambit\": \"/bundles/app/js/vendor/jschessengine/books/personalities/gambit.3ef59ed2.bin\",\\n        \"indian\": \"/bundles/app/js/vendor/jschessengine/books/personalities/indian.8e8f8dd6.bin\",\\n        \"nakamura\": \"/bundles/app/js/vendor/jschessengine/books/personalities/nakamura.1b408716.bin\",\\n        \"offbeat\": \"/bundles/app/js/vendor/jschessengine/books/personalities/offbeat.c125e5bf.bin\",\\n        \"positional\": \"/bundles/app/js/vendor/jschessengine/books/personalities/positional.988b37b5.bin\",\\n        \"quick_queen\": \"/bundles/app/js/vendor/jschessengine/books/personalities/quick_queen.523ee0a4.bin\",\\n        \"rensch\": \"/bundles/app/js/vendor/jschessengine/books/personalities/rensch.f0d14299.bin\",\\n        \"winger\": \"/bundles/app/js/vendor/jschessengine/books/personalities/winger.77d88765.bin\"\\n      },\\n      \"threadedEnginePaths\": {\\n        \"stockfish\": {\\n          \"fakeWorker\": {\\n            \"loader\": \"https://www.chess.com/bundles/app/js/engine/stockfish-nnue-15.1-no-Worker.47c3d633.js\",\\n            \"engine\": \"https://www.chess.com/bundles/app/js/engine/stockfish-nnue-15.1-no-Worker.a459ad84.wasm\",\\n          },\\n          \"multiThreaded\": {\\n            \"loader\": \"https://www.chess.com/bundles/app/js/engine/stockfish-nnue-15.0037fad7.js\",\\n            \"engine\": \"/bundles/app/js/engine/stockfish-nnue-15.3f2dc2f6.wasm\",\\n            \"nnue\": \"/bundles/app/js/engine/nn-6877cd24400e.6f08b21c.nnue\",\\n          },\\n          \"singleThreaded\": {\\n            \"loader\": \"/bundles/app/js/engine/stockfish-single.830cf9cc.js\",\\n            \"engine\": \"/bundles/app/js/engine/stockfish-single.8ffa2b70.wasm\",\\n          },\\n          \"asm\": \"/bundles/app/js/engine/stockfish.asm.16fa8540.js\",\\n          \"fakeWorkerBrowserVersions\": [{\"browser\":\"chrome\",\"version\":109}],\\n        },\\n      },\\n      \"oldThemes\": false,\\n      \"isPlay\": false,\\n      \"isStaff\": false,\\n      \"noAvatar\": \\'/bundles/web/images/user-image.007dad08.svg\\',\\n      \"wdlJsonModel\": \\'/bundles/web/wdl/model.json\\',\\n      \"wdlWeights\": \\'/bundles/web/wdl/group1-shard1of1.bin\\',\\n      \"ad.noAds\": false,\\n      \"ad.disabledAds\": []\\n    };\\n\\n    Config.adCustomPath = \\'\\';\\n\\n    Config.pathToTinyMCE = \"/bundles/app/js/tinymce-lazy.client.9518b9ca.js\",\\n\\n    \\n    \\n          Config.pathToDiagramViewerCSS =  \"/bundles/app/css/diagram-viewer.client.30cb2e10.css\",\\n      Config.pathToDiagramViewerJS = \"/bundles/app/js/diagram-viewer.client.9b3b6bcc.js\",\\n    \\n        window.__CHESSCOM_RTL__ = false;\\n\\n        window.chesscom = window.chesscom || {};\\n    window.chesscom.clientMetricsDomain = \\'https://client-metrics.chess.com\\';\\n\\n        //<![CDATA[\\n    context = {\"freeTrial\":null,\"i18n\":{\"locale\":\"en_US\",\"contentLanguage\":\"any\",\"mobile\":[]},\"csrf\":{\"token\":\"cfb35a970f5a8.LGLH_VtdzsOFju_m6GB27hDtDdhIMUAvuvdpAeXFCvU.WzP3zBcKoozKvdmeilQjqFisXrs-BydB74IZaY2IJ4V9W_-tb26_99T6tg\",\"login\":\"1ac.AvnNqYdVCUUMMg_kN9vMUmbuQCxdsJ-b5zbyyOrNMho.ZoudwbYhYShWSz6qXpecYjKaM2kFgs7rhQeI-oC6Y3IymIfZ6G1wcEN1Sg\",\"logout\":\"6118a9c375c17310209114c.FuIISI8NTOzorNBvWUsw7_-_Lv3DdoTrnuoLsWd3f_0.TotEEdlfPZS52J8WCHx-2ZTGfoyyPPLY1a9A91cZJcslhVFlxm8mm56Bsw\"},\"amplitudeKey\":\"5cc41a1e56d0ee35d4c85d1d4225d2d1\",\"iterableKey\":\"f771b86cf083441f992a4bb01d3d600f\",\"adyen\":{\"environment\":\"live\",\"integrity\":\"sha384-O0Q35c47I1ojd1zrD78yWAs+r5gytAjBC\\\\/sxwZqgQW5z9hDbAFM49z8SViprrDwm\",\"clientKey\":\"live_7STEYX735RGTTEZMSKIVNX5C2YU2QN5B\",\"key\":\"10001|D97C83A6DB30A889AAC517489C56512C733B365B8E5E2E5CB5FD860751EC3EC14A145FE6FD2EF1A338D375DB3D9F7B988631B64D4B9C9BE3DE007D8C60649F2BAC7B0798A869892B683110B2FE53E89EBB9923A0EF7113FDEEEBC57FDB21AA8F99D3757DB7C8A8E6458D3B628B357396E77CD3C31158B203BEDAF3AC56E11A94C3BA745CAE7847B6C7D5C6B1D6E68204147A9B98EC334560F94A484FC5335F8AA4716BF13E0153B9B0E7FF75384449563F935AF0173C5F8F1CBE20B1C91593C2F7AF07A83E48F31DA8F4F5959687A682823216342C6E1B36771AC42C9BF0E03F443D07D239F25EB916BC15A908796C698D296130A9BA4A925684416F9C759143\",\"originKey\":\"pub.v2.1114841580210853.aHR0cHM6Ly93d3cuY2hlc3MuY29t.g3hcnpsxbNsbEo3XJP_laQJwLDCkoYfA1YmHG6Kns8g\",\"sdk\":\"https:\\\\/\\\\/checkoutshopper-live.adyen.com\\\\/checkoutshopper\\\\/sdk\\\\/5.23.1\\\\/adyen.js\"},\"iterableMuteApiCallsFeature\":false,\"paypalClientId\":\"AX68j9lUfn3i3vsUPLiDT-jSr3n_1h0nbZtUSRPXXy3-O6iMSX-adfP6PB0qcTbNbbqCaHm6MiDy4JzE\"};\\n    //]]>\\n    \\n    context.version = \\'20230313072927\\';\\n    context.branch = \\'master\\';\\n    context.commit = \\'4d3575dc20e494c591f7f220702c24024217c9bb\\';\\n    context.requestId = \\'b40925f7e268d025303496ec3cc2efdb\\';\\n    context.server = \\'web150.chess.com\\';\\n    context.locale = \\'en\\';\\n    context.environment = \\'prod\\';\\n    context.cookies = {\\n      app: \\'\\',\\n    };\\n\\n    context.ip = \\'89.114.65.177\\';\\n    context.chessboardBeta = true;\\n    context.route = \\'web_stats_tactics\\';\\n  </script>\\n\\n  <div id=\\'cdm-zone-end\\'></div>\\n\\n    <script language=\"javascript\">\\n    if (\\'serviceWorker\\' in navigator) {\\n      navigator.serviceWorker.getRegistrations().then(registrations => {\\n        registrations.forEach(registration => {\\n          if (registration.active.scriptURL.includes(\\'/service-worker.client.js\\')) {\\n            registration.unregister();\\n          }\\n        });\\n      }).catch(() => { });\\n    }\\n  </script>\\n\\n\\n<script defer src=\"/bundles/app/js/client/es6-translations/es6-translation.en_US.52de1e1b.js\"></script>\\n\\n<script src=\"/bundles/app/js/vue.dll.0cf822a5.js\"></script>\\n\\n\\n    \\n      \\n  \\n      <script defer  src=\"/bundles/app/js/global.client.6c8358c9.js\">\\n    </script>\\n  \\n  \\n\\n\\n\\n        <script\\n      data-src=\"/bundles/app/js/checkmate.client.98a3ade3.js\">\\n    </script>\\n  \\n\\n      \\n      \\n  \\n      <script defer  data-src=\"/bundles/app/js/ready-to-play-banner.client.38a06358.js\">\\n    </script>\\n  \\n  \\n\\n      \\n      \\n  \\n      <script defer  data-src=\"/bundles/app/js/cookie-banner.client.df22be85.js\">\\n    </script>\\n  \\n  \\n\\n  \\n      \\n    <script>\\n      window.chesscom = window.chesscom || {};\\n      window.chesscom.sentry = {\\n        appCookie: \\'\\',\\n        incrementCallback: \\'https://www.chess.com/metrics/fe_sentry\\',\\n        key: \\'\\',\\n      }\\n    </script>\\n\\n        \\n      \\n  \\n      <script defer  src=\"/bundles/app/js/sentry.client.c514dd06.js\">\\n    </script>\\n  \\n  \\n  \\n  \\n  \\n\\n  <script data-src=\"https://btloader.com/tag?o=5150306120761344&upapi=true\"></script>\\n\\n  \\n    <script>\\n    window.chesscom = window.chesscom || {};\\n    window.chesscom.aggregateUiEnabled = true;\\n    window.chesscom.tacticsAggregateUiEnabled = false;\\n  </script>\\n\\n      \\n      \\n  \\n      <script defer  src=\"/bundles/app/js/stats.client.e872fc1e.js\">\\n    </script>\\n  \\n  \\n\\n    \\n          \\n      \\n  \\n      <script defer  src=\"/bundles/app/js/chess-ads.client.52bc7cec.js\">\\n    </script>\\n  \\n  \\n  \\n\\n\\n    <script>\\n    window.chesscom.stats = {\\n      attemptCount: 3667,\\n      bestPuzzleSolved: 2117,\\n      friendCount: 8,\\n      friendRank: 1,\\n      highestRating: {\"rating\":2117,\"timestamp\":1664204149},\\n      passedCount: 1830,\\n      failedCount: 1837,\\n              rating: 1967,\\n            ratings: [{\"timestamp\":1676188800000,\"open\":1984,\"rating\":1979,\"high\":1984,\"low\":1968},{\"timestamp\":1676275200000,\"open\":1979,\"rating\":1958,\"high\":1979,\"low\":1958},{\"timestamp\":1676361600000,\"open\":1958,\"rating\":1962,\"high\":1970,\"low\":1941},{\"timestamp\":1676448000000,\"open\":1962,\"rating\":1950,\"high\":1965,\"low\":1950},{\"timestamp\":1676534400000,\"open\":1950,\"rating\":1950,\"high\":1950,\"low\":1950},{\"timestamp\":1676620800000,\"open\":1950,\"rating\":1967,\"high\":1967,\"low\":1943},{\"timestamp\":1676707200000,\"open\":1967,\"rating\":1967,\"high\":1967,\"low\":1967},{\"timestamp\":1676793600000,\"open\":1967,\"rating\":1961,\"high\":1967,\"low\":1953},{\"timestamp\":1676880000000,\"open\":1961,\"rating\":1977,\"high\":1977,\"low\":1961},{\"timestamp\":1676966400000,\"open\":1977,\"rating\":2007,\"high\":2007,\"low\":1975},{\"timestamp\":1677052800000,\"open\":2007,\"rating\":2007,\"high\":2007,\"low\":2007},{\"timestamp\":1677139200000,\"open\":2007,\"rating\":2019,\"high\":2036,\"low\":2007},{\"timestamp\":1677225600000,\"open\":2019,\"rating\":2012,\"high\":2031,\"low\":2000},{\"timestamp\":1677312000000,\"open\":2012,\"rating\":2003,\"high\":2015,\"low\":1999},{\"timestamp\":1677398400000,\"open\":2003,\"rating\":1990,\"high\":2013,\"low\":1990},{\"timestamp\":1677484800000,\"open\":1990,\"rating\":2001,\"high\":2016,\"low\":1990},{\"timestamp\":1677571200000,\"open\":2001,\"rating\":1980,\"high\":2020,\"low\":1980},{\"timestamp\":1677657600000,\"open\":1980,\"rating\":1966,\"high\":1980,\"low\":1966},{\"timestamp\":1677744000000,\"open\":1966,\"rating\":1907,\"high\":1966,\"low\":1907},{\"timestamp\":1677830400000,\"open\":1907,\"rating\":1912,\"high\":1912,\"low\":1891},{\"timestamp\":1677916800000,\"open\":1912,\"rating\":1912,\"high\":1912,\"low\":1912},{\"timestamp\":1678003200000,\"open\":1912,\"rating\":1906,\"high\":1912,\"low\":1894},{\"timestamp\":1678089600000,\"open\":1906,\"rating\":1906,\"high\":1906,\"low\":1906},{\"timestamp\":1678176000000,\"open\":1906,\"rating\":1939,\"high\":1939,\"low\":1893},{\"timestamp\":1678262400000,\"open\":1939,\"rating\":1939,\"high\":1939,\"low\":1939},{\"timestamp\":1678348800000,\"open\":1939,\"rating\":1925,\"high\":1939,\"low\":1902},{\"timestamp\":1678435200000,\"open\":1925,\"rating\":1928,\"high\":1932,\"low\":1914},{\"timestamp\":1678521600000,\"open\":1928,\"rating\":1928,\"high\":1928,\"low\":1928},{\"timestamp\":1678608000000,\"open\":1928,\"rating\":1928,\"high\":1928,\"low\":1928},{\"timestamp\":1678690800000,\"open\":1928,\"rating\":1967,\"high\":1967,\"low\":1928}],\\n      recentRatedProblems: [],\\n      recentPuzzleRushes: [],\\n      recentLearningProblems: [],\\n      stats: [{\"timestamp\":1676102400000,\"totalPassed\":0,\"totalFailed\":2,\"totalTime\":103,\"dayCloseRating\":1984},{\"timestamp\":1676188800000,\"totalPassed\":1,\"totalFailed\":2,\"totalTime\":115,\"dayCloseRating\":1979},{\"timestamp\":1676275200000,\"totalPassed\":2,\"totalFailed\":3,\"totalTime\":201,\"dayCloseRating\":1958},{\"timestamp\":1676361600000,\"totalPassed\":3,\"totalFailed\":2,\"totalTime\":83,\"dayCloseRating\":1962},{\"timestamp\":1676448000000,\"totalPassed\":2,\"totalFailed\":3,\"totalTime\":116,\"dayCloseRating\":1950},{\"timestamp\":1676534400000,\"totalPassed\":0,\"totalFailed\":0,\"totalTime\":0,\"dayCloseRating\":1950},{\"timestamp\":1676620800000,\"totalPassed\":3,\"totalFailed\":2,\"totalTime\":121,\"dayCloseRating\":1967},{\"timestamp\":1676707200000,\"totalPassed\":0,\"totalFailed\":0,\"totalTime\":0,\"dayCloseRating\":1967},{\"timestamp\":1676793600000,\"totalPassed\":1,\"totalFailed\":1,\"totalTime\":40,\"dayCloseRating\":1961},{\"timestamp\":1676880000000,\"totalPassed\":3,\"totalFailed\":2,\"totalTime\":98,\"dayCloseRating\":1977},{\"timestamp\":1676966400000,\"totalPassed\":4,\"totalFailed\":1,\"totalTime\":88,\"dayCloseRating\":2007},{\"timestamp\":1677052800000,\"totalPassed\":0,\"totalFailed\":0,\"totalTime\":0,\"dayCloseRating\":2007},{\"timestamp\":1677139200000,\"totalPassed\":3,\"totalFailed\":2,\"totalTime\":153,\"dayCloseRating\":2019},{\"timestamp\":1677225600000,\"totalPassed\":2,\"totalFailed\":3,\"totalTime\":101,\"dayCloseRating\":2012},{\"timestamp\":1677312000000,\"totalPassed\":2,\"totalFailed\":3,\"totalTime\":135,\"dayCloseRating\":2003},{\"timestamp\":1677398400000,\"totalPassed\":2,\"totalFailed\":3,\"totalTime\":202,\"dayCloseRating\":1990},{\"timestamp\":1677484800000,\"totalPassed\":1,\"totalFailed\":4,\"totalTime\":163,\"dayCloseRating\":2001},{\"timestamp\":1677571200000,\"totalPassed\":2,\"totalFailed\":3,\"totalTime\":70,\"dayCloseRating\":1980},{\"timestamp\":1677657600000,\"totalPassed\":0,\"totalFailed\":1,\"totalTime\":30,\"dayCloseRating\":1966},{\"timestamp\":1677744000000,\"totalPassed\":0,\"totalFailed\":5,\"totalTime\":70,\"dayCloseRating\":1907},{\"timestamp\":1677830400000,\"totalPassed\":3,\"totalFailed\":2,\"totalTime\":82,\"dayCloseRating\":1912},{\"timestamp\":1677916800000,\"totalPassed\":0,\"totalFailed\":0,\"totalTime\":0,\"dayCloseRating\":1912},{\"timestamp\":1678003200000,\"totalPassed\":2,\"totalFailed\":3,\"totalTime\":103,\"dayCloseRating\":1906},{\"timestamp\":1678089600000,\"totalPassed\":0,\"totalFailed\":0,\"totalTime\":0,\"dayCloseRating\":1906},{\"timestamp\":1678176000000,\"totalPassed\":4,\"totalFailed\":1,\"totalTime\":92,\"dayCloseRating\":1939},{\"timestamp\":1678262400000,\"totalPassed\":0,\"totalFailed\":0,\"totalTime\":0,\"dayCloseRating\":1939},{\"timestamp\":1678348800000,\"totalPassed\":2,\"totalFailed\":3,\"totalTime\":96,\"dayCloseRating\":1925},{\"timestamp\":1678435200000,\"totalPassed\":3,\"totalFailed\":2,\"totalTime\":139,\"dayCloseRating\":1928},{\"timestamp\":1678521600000,\"totalPassed\":0,\"totalFailed\":0,\"totalTime\":0,\"dayCloseRating\":1928},{\"timestamp\":1678608000000,\"totalPassed\":0,\"totalFailed\":0,\"totalTime\":0,\"dayCloseRating\":1928},{\"timestamp\":1678690800000,\"totalPassed\":4,\"totalFailed\":1,\"totalTime\":124,\"dayCloseRating\":1967}],\\n      trainingTime: 109542,\\n      type: \\'puzzles\\',\\n      username: \\'chiopra\\',\\n      id: \\'23322766\\',\\n    };\\n\\n                  window.chesscom.stats.recentRatedProblems.push({\\n          averageTime: \\'0:53\\',\\n          date: \\'Mar 13, 2023\\',\\n          fen: \\'2r1r2k/7q/3p3B/2n1p1Q1/p1P1b1PP/Pp6/1P3R2/1B3RK1 b - -\\',\\n          flipBoard: false,\\n          id: 763356,\\n          isProvisional: false,\\n          isPassed: true,\\n          code: 0763356,\\n          rating: 1691,\\n          ratingChange: 12,\\n          myRating: 1967,\\n          myTime: \\'0:32\\',\\n          moveCount: 4,\\n          correctMoveCount: 4,\\n          score: 100,\\n          targetTime: \\'0:33\\',\\n        })\\n              window.chesscom.stats.recentRatedProblems.push({\\n          averageTime: \\'0:59\\',\\n          date: \\'Mar 13, 2023\\',\\n          fen: \\'r4rk1/2b2ppp/pp1pnn2/2p1q3/2P1P3/2N1B2P/PPQ1BPP1/3R1RK1 b - - 1 19\\',\\n          flipBoard: false,\\n          id: 1094132,\\n          isProvisional: false,\\n          isPassed: false,\\n          code: 1094132,\\n          rating: 1970,\\n          ratingChange: -10,\\n          myRating: 1955,\\n          myTime: \\'0:13\\',\\n          moveCount: 2,\\n          correctMoveCount: 0,\\n          score: 0,\\n          targetTime: \\'0:26\\',\\n        })\\n              window.chesscom.stats.recentRatedProblems.push({\\n          averageTime: \\'0:20\\',\\n          date: \\'Mar 13, 2023\\',\\n          fen: \\'2kr2r1/Qp3p2/2b1p3/5p2/7p/5N1P/5Pq1/1RR1K3 b - - 1 35\\',\\n          flipBoard: false,\\n          id: 1590702,\\n          isProvisional: false,\\n          isPassed: true,\\n          code: 1590702,\\n          rating: 2040,\\n          ratingChange: 14,\\n          myRating: 1965,\\n          myTime: \\'0:19\\',\\n          moveCount: 1,\\n          correctMoveCount: 1,\\n          score: 97,\\n          targetTime: \\'0:15\\',\\n        })\\n              window.chesscom.stats.recentRatedProblems.push({\\n          averageTime: \\'0:57\\',\\n          date: \\'Mar 13, 2023\\',\\n          fen: \\'3r1rk1/ppp1bppp/2n1b3/2q1p3/4P3/P2B1N1P/1PPB1PP1/R2Q1RK1 b - - 2 13\\',\\n          flipBoard: false,\\n          id: 1124192,\\n          isProvisional: false,\\n          isPassed: true,\\n          code: 1124192,\\n          rating: 1775,\\n          ratingChange: 13,\\n          myRating: 1951,\\n          myTime: \\'0:23\\',\\n          moveCount: 3,\\n          correctMoveCount: 3,\\n          score: 100,\\n          targetTime: \\'0:30\\',\\n        })\\n              window.chesscom.stats.recentRatedProblems.push({\\n          averageTime: \\'0:26\\',\\n          date: \\'Mar 13, 2023\\',\\n          fen: \\'4rrk1/p1p2Np1/1p4Kp/3Q1P2/3P4/1N1P4/1q4PP/7R b - - 0 24\\',\\n          flipBoard: false,\\n          id: 1381800,\\n          isProvisional: false,\\n          isPassed: true,\\n          code: 1381800,\\n          rating: 1628,\\n          ratingChange: 10,\\n          myRating: 1938,\\n          myTime: \\'0:37\\',\\n          moveCount: 3,\\n          correctMoveCount: 3,\\n          score: 95,\\n          targetTime: \\'0:25\\',\\n        })\\n              window.chesscom.stats.recentRatedProblems.push({\\n          averageTime: \\'0:47\\',\\n          date: \\'Mar 10, 2023\\',\\n          fen: \\'3r1rk1/ppp2Bpp/6q1/4b3/5B2/2P4b/P1PQ2PP/R4RK1 b - - 0 16\\',\\n          flipBoard: false,\\n          id: 1008188,\\n          isProvisional: false,\\n          isPassed: true,\\n          code: 1008188,\\n          rating: 1540,\\n          ratingChange: 10,\\n          myRating: 1928,\\n          myTime: \\'0:26\\',\\n          moveCount: 3,\\n          correctMoveCount: 3,\\n          score: 98,\\n          targetTime: \\'0:22\\',\\n        })\\n              window.chesscom.stats.recentRatedProblems.push({\\n          averageTime: \\'0:46\\',\\n          date: \\'Mar 10, 2023\\',\\n          fen: \\'4r1k1/p4pb1/1p1pr3/2p3q1/2PpP2p/1P1P3P/P1R3P1/3QBRK1 w - -\\',\\n          flipBoard: true,\\n          id: 979696,\\n          isProvisional: false,\\n          isPassed: false,\\n          code: 0979696,\\n          rating: 1586,\\n          ratingChange: -14,\\n          myRating: 1918,\\n          myTime: \\'0:14\\',\\n          moveCount: 3,\\n          correctMoveCount: 0,\\n          score: 0,\\n          targetTime: \\'0:24\\',\\n        })\\n              window.chesscom.stats.recentRatedProblems.push({\\n          averageTime: \\'1:12\\',\\n          date: \\'Mar 10, 2023\\',\\n          fen: \\'rnbqk2r/p1p1ppbp/1p1p1np1/8/2PPP3/2NB4/PP2NPPP/R1BQK2R b KQkq - 1 6\\',\\n          flipBoard: false,\\n          id: 1147386,\\n          isProvisional: false,\\n          isPassed: true,\\n          code: 1147386,\\n          rating: 1438,\\n          ratingChange: 8,\\n          myRating: 1932,\\n          myTime: \\'0:28\\',\\n          moveCount: 3,\\n          correctMoveCount: 3,\\n          score: 95,\\n          targetTime: \\'0:19\\',\\n        })\\n              window.chesscom.stats.recentRatedProblems.push({\\n          averageTime: \\'0:26\\',\\n          date: \\'Mar 10, 2023\\',\\n          fen: \\'6k1/pp4p1/3b3p/4p3/3pP2q/PN1P2p1/1P5r/R1Q2BKR w - - 0 27\\',\\n          flipBoard: true,\\n          id: 1439170,\\n          isProvisional: false,\\n          isPassed: true,\\n          code: 1439170,\\n          rating: 1579,\\n          ratingChange: 10,\\n          myRating: 1924,\\n          myTime: \\'0:26\\',\\n          moveCount: 3,\\n          correctMoveCount: 3,\\n          score: 99,\\n          targetTime: \\'0:24\\',\\n        })\\n              window.chesscom.stats.recentRatedProblems.push({\\n          averageTime: \\'1:22\\',\\n          date: \\'Mar 10, 2023\\',\\n          fen: \\'r2qkb1r/ppp2ppp/2n1p3/8/8/2P2Q2/PP2PPPP/R1B1KB1R w KQkq - 0 11\\',\\n          flipBoard: true,\\n          id: 1022312,\\n          isProvisional: false,\\n          isPassed: false,\\n          code: 1022312,\\n          rating: 1830,\\n          ratingChange: -11,\\n          myRating: 1914,\\n          myTime: \\'0:45\\',\\n          moveCount: 3,\\n          correctMoveCount: 0,\\n          score: 0,\\n          targetTime: \\'0:33\\',\\n        })\\n              window.chesscom.stats.recentRatedProblems.push({\\n          averageTime: \\'0:48\\',\\n          date: \\'Mar 9, 2023\\',\\n          fen: \\'8/p7/6p1/1P6/k1K4P/8/8/8 b - -\\',\\n          flipBoard: false,\\n          id: 659752,\\n          isProvisional: false,\\n          isPassed: true,\\n          code: 0659752,\\n          rating: 1698,\\n          ratingChange: 12,\\n          myRating: 1925,\\n          myTime: \\'0:23\\',\\n          moveCount: 4,\\n          correctMoveCount: 4,\\n          score: 100,\\n          targetTime: \\'0:35\\',\\n        })\\n              window.chesscom.stats.recentRatedProblems.push({\\n          averageTime: \\'0:22\\',\\n          date: \\'Mar 9, 2023\\',\\n          fen: \\'r1b1r1k1/5p1p/2np1Q2/1qp1p3/1p2P3/1P1PB2P/P4PP1/R4RK1 b - - 0 19\\',\\n          flipBoard: false,\\n          id: 2206284,\\n          isProvisional: false,\\n          isPassed: true,\\n          code: 2206284,\\n          rating: 1527,\\n          ratingChange: 11,\\n          myRating: 1913,\\n          myTime: \\'0:11\\',\\n          moveCount: 2,\\n          correctMoveCount: 2,\\n          score: 100,\\n          targetTime: \\'0:16\\',\\n        })\\n              window.chesscom.stats.recentRatedProblems.push({\\n          averageTime: \\'0:27\\',\\n          date: \\'Mar 9, 2023\\',\\n          fen: \\'3r2k1/ppp1p2p/8/4bp2/2P3n1/4P3/PP4PP/R1B2RK1 w - - 0 20\\',\\n          flipBoard: true,\\n          id: 1421032,\\n          isProvisional: false,\\n          isPassed: false,\\n          code: 1421032,\\n          rating: 1359,\\n          ratingChange: -10,\\n          myRating: 1902,\\n          myTime: \\'0:14\\',\\n          moveCount: 3,\\n          correctMoveCount: 1,\\n          score: 33,\\n          targetTime: \\'0:16\\',\\n        })\\n              window.chesscom.stats.recentRatedProblems.push({\\n          averageTime: \\'0:27\\',\\n          date: \\'Mar 9, 2023\\',\\n          fen: \\'rnr5/5p1p/4Nkp1/p5P1/2B5/7P/P3RP2/6K1 b - - 0 31\\',\\n          flipBoard: false,\\n          id: 1926796,\\n          isProvisional: false,\\n          isPassed: false,\\n          code: 1926796,\\n          rating: 1431,\\n          ratingChange: -15,\\n          myRating: 1912,\\n          myTime: \\'0:11\\',\\n          moveCount: 1,\\n          correctMoveCount: 0,\\n          score: 0,\\n          targetTime: \\'0:07\\',\\n        })\\n              window.chesscom.stats.recentRatedProblems.push({\\n          averageTime: \\'1:33\\',\\n          date: \\'Mar 9, 2023\\',\\n          fen: \\'r3rk2/pp3p2/2b1nB2/8/6R1/P3P3/5PPP/3R2K1 b - - 9 25\\',\\n          flipBoard: false,\\n          id: 1004930,\\n          isProvisional: false,\\n          isPassed: false,\\n          code: 1004930,\\n          rating: 1837,\\n          ratingChange: -12,\\n          myRating: 1927,\\n          myTime: \\'0:37\\',\\n          moveCount: 3,\\n          correctMoveCount: 0,\\n          score: 0,\\n          targetTime: \\'0:32\\',\\n        })\\n              window.chesscom.stats.recentRatedProblems.push({\\n          averageTime: \\'0:21\\',\\n          date: \\'Mar 7, 2023\\',\\n          fen: \\'5r1k/pp2p2n/2r5/4Q3/7P/8/P2RKP2/1q3BR1 b - - 7 27\\',\\n          flipBoard: false,\\n          id: 2147784,\\n          isProvisional: false,\\n          isPassed: true,\\n          code: 2147784,\\n          rating: 1786,\\n          ratingChange: 13,\\n          myRating: 1939,\\n          myTime: \\'0:09\\',\\n          moveCount: 2,\\n          correctMoveCount: 2,\\n          score: 100,\\n          targetTime: \\'0:22\\',\\n        })\\n              window.chesscom.stats.recentRatedProblems.push({\\n          averageTime: \\'0:19\\',\\n          date: \\'Mar 7, 2023\\',\\n          fen: \\'3rk1r1/pQ3pBp/8/2p2nR1/5P2/4P2q/P1P4P/R3K3 w Q - 5 29\\',\\n          flipBoard: true,\\n          id: 1894512,\\n          isProvisional: false,\\n          isPassed: true,\\n          code: 1894512,\\n          rating: 1860,\\n          ratingChange: 13,\\n          myRating: 1926,\\n          myTime: \\'0:14\\',\\n          moveCount: 1,\\n          correctMoveCount: 1,\\n          score: 99,\\n          targetTime: \\'0:13\\',\\n        })\\n              window.chesscom.stats.recentRatedProblems.push({\\n          averageTime: \\'1:00\\',\\n          date: \\'Mar 7, 2023\\',\\n          fen: \\'r3k1nr/pp2b1pp/4Q3/2pp2B1/8/8/PqP2PPP/RN2K2R w KQkq - 1 16\\',\\n          flipBoard: true,\\n          id: 1100922,\\n          isProvisional: false,\\n          isPassed: true,\\n          code: 1100922,\\n          rating: 1610,\\n          ratingChange: 10,\\n          myRating: 1913,\\n          myTime: \\'0:45\\',\\n          moveCount: 4,\\n          correctMoveCount: 4,\\n          score: 96,\\n          targetTime: \\'0:32\\',\\n        })\\n              window.chesscom.stats.recentRatedProblems.push({\\n          averageTime: \\'0:39\\',\\n          date: \\'Mar 7, 2023\\',\\n          fen: \\'1r6/5pk1/4p1p1/2Qp4/p2P1P2/3BP3/r4P1q/2R2KR1 b - - 1 27\\',\\n          flipBoard: false,\\n          id: 2090032,\\n          isProvisional: false,\\n          isPassed: true,\\n          code: 2090032,\\n          rating: 1589,\\n          ratingChange: 10,\\n          myRating: 1903,\\n          myTime: \\'0:20\\',\\n          moveCount: 2,\\n          correctMoveCount: 2,\\n          score: 99,\\n          targetTime: \\'0:18\\',\\n        })\\n              window.chesscom.stats.recentRatedProblems.push({\\n          averageTime: \\'0:30\\',\\n          date: \\'Mar 7, 2023\\',\\n          fen: \\'6k1/p2R1ppp/6n1/2p1P1Q1/8/P7/qP5P/4K3 b - - 0 32\\',\\n          flipBoard: false,\\n          id: 1441560,\\n          isProvisional: false,\\n          isPassed: false,\\n          code: 1441560,\\n          rating: 1606,\\n          ratingChange: -13,\\n          myRating: 1893,\\n          myTime: \\'0:04\\',\\n          moveCount: 3,\\n          correctMoveCount: 0,\\n          score: 0,\\n          targetTime: \\'0:25\\',\\n        })\\n              window.chesscom.stats.recentRatedProblems.push({\\n          averageTime: \\'0:12\\',\\n          date: \\'Mar 5, 2023\\',\\n          fen: \\'2k5/1pp5/8/3P1p1p/PpP2Pr1/1R6/3Nn1P1/5R1K w - - 0 28\\',\\n          flipBoard: true,\\n          id: 1778384,\\n          isProvisional: false,\\n          isPassed: true,\\n          code: 1778384,\\n          rating: 1603,\\n          ratingChange: 12,\\n          myRating: 1906,\\n          myTime: \\'0:05\\',\\n          moveCount: 1,\\n          correctMoveCount: 1,\\n          score: 100,\\n          targetTime: \\'0:10\\',\\n        })\\n              window.chesscom.stats.recentRatedProblems.push({\\n          averageTime: \\'0:57\\',\\n          date: \\'Mar 5, 2023\\',\\n          fen: \\'r5k1/5p1p/p3p1pQ/1pq1P3/2p1R3/2P2P2/PP1r2PP/5R1K b - - 0 25\\',\\n          flipBoard: false,\\n          id: 1916224,\\n          isProvisional: false,\\n          isPassed: false,\\n          code: 1916224,\\n          rating: 1731,\\n          ratingChange: -12,\\n          myRating: 1894,\\n          myTime: \\'0:19\\',\\n          moveCount: 5,\\n          correctMoveCount: 0,\\n          score: 0,\\n          targetTime: \\'0:43\\',\\n        })\\n              window.chesscom.stats.recentRatedProblems.push({\\n          averageTime: \\'0:35\\',\\n          date: \\'Mar 5, 2023\\',\\n          fen: \\'2k3r1/pppq1p2/3p1Q1p/4p2r/4P3/2PP3P/PP3PPK/R5R1 w - - 3 20\\',\\n          flipBoard: true,\\n          id: 1448522,\\n          isProvisional: false,\\n          isPassed: true,\\n          code: 1448522,\\n          rating: 1502,\\n          ratingChange: 10,\\n          myRating: 1906,\\n          myTime: \\'0:28\\',\\n          moveCount: 3,\\n          correctMoveCount: 3,\\n          score: 97,\\n          targetTime: \\'0:22\\',\\n        })\\n              window.chesscom.stats.recentRatedProblems.push({\\n          averageTime: \\'0:59\\',\\n          date: \\'Mar 5, 2023\\',\\n          fen: \\'8/5R2/7k/5QN1/2p5/2q5/p3K3/8 w - - 8 64\\',\\n          flipBoard: true,\\n          id: 1241949,\\n          isProvisional: false,\\n          isPassed: false,\\n          code: 1241949,\\n          rating: 1693,\\n          ratingChange: -13,\\n          myRating: 1896,\\n          myTime: \\'0:28\\',\\n          moveCount: 5,\\n          correctMoveCount: 0,\\n          score: 0,\\n          targetTime: \\'0:41\\',\\n        })\\n              window.chesscom.stats.recentRatedProblems.push({\\n          averageTime: \\'1:06\\',\\n          date: \\'Mar 5, 2023\\',\\n          fen: \\'r4r2/2p2pk1/p2p2p1/2p1p1q1/Pn2P3/1P2PQ2/2P1N1P1/R4RK1 b - - 1 21\\',\\n          flipBoard: false,\\n          id: 1094364,\\n          isProvisional: false,\\n          isPassed: false,\\n          code: 1094364,\\n          rating: 1752,\\n          ratingChange: -3,\\n          myRating: 1909,\\n          myTime: \\'0:23\\',\\n          moveCount: 2,\\n          correctMoveCount: 1,\\n          score: 50,\\n          targetTime: \\'0:22\\',\\n        })\\n          \\n    \\n                  window.chesscom.stats.recentPuzzleRushes.push({\\n          date: \\'Mar 9, 2023\\',\\n          id: \\'be866f48-be6e-11ed-a032-3b95f79971b7\\',\\n          time: 2,\\n          highestSolved: 903,\\n          result: 15,\\n          shortUuid: \\'4D1Fcr\\',\\n          streak: 11,\\n          timePerPuzzle: \\'0:11\\',\\n        })\\n              window.chesscom.stats.recentPuzzleRushes.push({\\n          date: \\'Mar 8, 2023\\',\\n          id: \\'1d4c5626-bd9f-11ed-91d1-97baff7e585b\\',\\n          time: 1,\\n          highestSolved: 772,\\n          result: 11,\\n          shortUuid: \\'5jEcCe\\',\\n          streak: 6,\\n          timePerPuzzle: \\'0:09\\',\\n        })\\n              window.chesscom.stats.recentPuzzleRushes.push({\\n          date: \\'Mar 7, 2023\\',\\n          id: \\'e2b974e0-bcd5-11ed-b09c-2fd825def7a6\\',\\n          time: 2,\\n          highestSolved: 773,\\n          result: 11,\\n          shortUuid: \\'2qFe46\\',\\n          streak: 9,\\n          timePerPuzzle: \\'0:08\\',\\n        })\\n              window.chesscom.stats.recentPuzzleRushes.push({\\n          date: \\'Mar 3, 2023\\',\\n          id: \\'961d2f2a-b9a9-11ed-997b-2bfca1ba3ed4\\',\\n          time: 2,\\n          highestSolved: 1020,\\n          result: 18,\\n          shortUuid: \\'3hXxM4\\',\\n          streak: 18,\\n          timePerPuzzle: \\'0:10\\',\\n        })\\n              window.chesscom.stats.recentPuzzleRushes.push({\\n          date: \\'Feb 25, 2023\\',\\n          id: \\'e6bedf04-b54f-11ed-9703-79c05a4d9fb2\\',\\n          time: 2,\\n          highestSolved: 630,\\n          result: 8,\\n          shortUuid: \\'3f7Ena\\',\\n          streak: 4,\\n          timePerPuzzle: \\'0:06\\',\\n        })\\n              window.chesscom.stats.recentPuzzleRushes.push({\\n          date: \\'Dec 20, 2022\\',\\n          id: \\'90300fae-803f-11ed-a411-5b3619958bba\\',\\n          time: 2,\\n          highestSolved: 922,\\n          result: 14,\\n          shortUuid: \\'FoY2J\\',\\n          streak: 12,\\n          timePerPuzzle: \\'0:08\\',\\n        })\\n              window.chesscom.stats.recentPuzzleRushes.push({\\n          date: \\'Dec 17, 2022\\',\\n          id: \\'b2cea582-7df3-11ed-a17a-071c03020d52\\',\\n          time: 2,\\n          highestSolved: 955,\\n          result: 15,\\n          shortUuid: \\'2zMpu4\\',\\n          streak: 8,\\n          timePerPuzzle: \\'0:09\\',\\n        })\\n              window.chesscom.stats.recentPuzzleRushes.push({\\n          date: \\'Nov 10, 2022\\',\\n          id: \\'f6b46e76-60d9-11ed-8673-bf0d42f1ffc4\\',\\n          time: 1,\\n          highestSolved: 1225,\\n          result: 20,\\n          shortUuid: \\'3rThSE\\',\\n          streak: 11,\\n          timePerPuzzle: \\'0:13\\',\\n        })\\n              window.chesscom.stats.recentPuzzleRushes.push({\\n          date: \\'Sep 23, 2022\\',\\n          id: \\'e4c3b1ba-3b39-11ed-8705-c9a08e61b968\\',\\n          time: 1,\\n          highestSolved: 1116,\\n          result: 18,\\n          shortUuid: \\'21jCut\\',\\n          streak: 17,\\n          timePerPuzzle: \\'0:14\\',\\n        })\\n              window.chesscom.stats.recentPuzzleRushes.push({\\n          date: \\'Sep 23, 2022\\',\\n          id: \\'6df67ba4-3b2e-11ed-83b8-0f5ef5bbabb8\\',\\n          time: 2,\\n          highestSolved: 939,\\n          result: 15,\\n          shortUuid: \\'5fVzwx\\',\\n          streak: 8,\\n          timePerPuzzle: \\'0:11\\',\\n        })\\n              window.chesscom.stats.recentPuzzleRushes.push({\\n          date: \\'Mar 18, 2022\\',\\n          id: \\'a6429de0-a6b8-11ec-8451-ff9a12e0aa91\\',\\n          time: 1,\\n          highestSolved: 1008,\\n          result: 17,\\n          shortUuid: \\'3aud8a\\',\\n          streak: 16,\\n          timePerPuzzle: \\'0:11\\',\\n        })\\n              window.chesscom.stats.recentPuzzleRushes.push({\\n          date: \\'Feb 24, 2022\\',\\n          id: \\'3d3873ce-960f-11ec-84d5-cfb2675988fa\\',\\n          time: 1,\\n          highestSolved: 1283,\\n          result: 21,\\n          shortUuid: \\'5q7RZg\\',\\n          streak: 17,\\n          timePerPuzzle: \\'0:13\\',\\n        })\\n              window.chesscom.stats.recentPuzzleRushes.push({\\n          date: \\'Jan 5, 2022\\',\\n          id: \\'b328aab0-6ebc-11ec-a0bf-f372ea28f331\\',\\n          time: 1,\\n          highestSolved: 1113,\\n          result: 20,\\n          shortUuid: \\'6FH79G\\',\\n          streak: 20,\\n          timePerPuzzle: \\'0:13\\',\\n        })\\n              window.chesscom.stats.recentPuzzleRushes.push({\\n          date: \\'Dec 16, 2021\\',\\n          id: \\'8f818d44-5f07-11ec-980d-5d03b8f3d11c\\',\\n          time: 1,\\n          highestSolved: 1095,\\n          result: 17,\\n          shortUuid: \\'7Bbaq4\\',\\n          streak: 9,\\n          timePerPuzzle: \\'0:14\\',\\n        })\\n              window.chesscom.stats.recentPuzzleRushes.push({\\n          date: \\'Dec 16, 2021\\',\\n          id: \\'66aad796-5ebb-11ec-8328-b70f01860f19\\',\\n          time: 1,\\n          highestSolved: 981,\\n          result: 16,\\n          shortUuid: \\'3dW8UN\\',\\n          streak: 15,\\n          timePerPuzzle: \\'0:13\\',\\n        })\\n              window.chesscom.stats.recentPuzzleRushes.push({\\n          date: \\'Dec 8, 2021\\',\\n          id: \\'d75d2c2a-58bf-11ec-ba88-293ef1f76404\\',\\n          time: 1,\\n          highestSolved: 1022,\\n          result: 16,\\n          shortUuid: \\'72s74J\\',\\n          streak: 12,\\n          timePerPuzzle: \\'0:12\\',\\n        })\\n              window.chesscom.stats.recentPuzzleRushes.push({\\n          date: \\'Nov 23, 2021\\',\\n          id: \\'6565e7b0-4cee-11ec-af97-a94846d20b0a\\',\\n          time: 1,\\n          highestSolved: 1008,\\n          result: 17,\\n          shortUuid: \\'5Fnyug\\',\\n          streak: 12,\\n          timePerPuzzle: \\'0:14\\',\\n        })\\n              window.chesscom.stats.recentPuzzleRushes.push({\\n          date: \\'Nov 19, 2021\\',\\n          id: \\'d0842582-4958-11ec-bdfb-57e476e49d4f\\',\\n          time: 2,\\n          highestSolved: 788,\\n          result: 12,\\n          shortUuid: \\'HTnkN\\',\\n          streak: 10,\\n          timePerPuzzle: \\'0:12\\',\\n        })\\n              window.chesscom.stats.recentPuzzleRushes.push({\\n          date: \\'Nov 19, 2021\\',\\n          id: \\'ef59f9cc-4936-11ec-9f79-05d6bb7aa2d9\\',\\n          time: 1,\\n          highestSolved: 1078,\\n          result: 18,\\n          shortUuid: \\'7KpQk6\\',\\n          streak: 14,\\n          timePerPuzzle: \\'0:14\\',\\n        })\\n              window.chesscom.stats.recentPuzzleRushes.push({\\n          date: \\'Nov 12, 2021\\',\\n          id: \\'40af343c-43b9-11ec-a085-df64b929dde9\\',\\n          time: 1,\\n          highestSolved: 565,\\n          result: 9,\\n          shortUuid: \\'4sxx6\\',\\n          streak: 9,\\n          timePerPuzzle: \\'0:15\\',\\n        })\\n              window.chesscom.stats.recentPuzzleRushes.push({\\n          date: \\'Nov 9, 2021\\',\\n          id: \\'93969c90-418d-11ec-bfbe-319579adbfd9\\',\\n          time: 1,\\n          highestSolved: 960,\\n          result: 15,\\n          shortUuid: \\'6A28nr\\',\\n          streak: 9,\\n          timePerPuzzle: \\'0:11\\',\\n        })\\n              window.chesscom.stats.recentPuzzleRushes.push({\\n          date: \\'Nov 9, 2021\\',\\n          id: \\'b0b56060-4168-11ec-a4a1-7b2b4f80fce6\\',\\n          time: 1,\\n          highestSolved: 717,\\n          result: 10,\\n          shortUuid: \\'LQQAi\\',\\n          streak: 4,\\n          timePerPuzzle: \\'0:12\\',\\n        })\\n              window.chesscom.stats.recentPuzzleRushes.push({\\n          date: \\'Oct 25, 2021\\',\\n          id: \\'09fa3482-3626-11ec-be07-4397a186c1c9\\',\\n          time: 1,\\n          highestSolved: 1039,\\n          result: 16,\\n          shortUuid: \\'4h4wyQ\\',\\n          streak: 14,\\n          timePerPuzzle: \\'0:14\\',\\n        })\\n              window.chesscom.stats.recentPuzzleRushes.push({\\n          date: \\'Oct 25, 2021\\',\\n          id: \\'2a112b18-3595-11ec-818b-d908ae3d2ca3\\',\\n          time: 1,\\n          highestSolved: 785,\\n          result: 12,\\n          shortUuid: \\'3AWxAS\\',\\n          streak: 9,\\n          timePerPuzzle: \\'0:13\\',\\n        })\\n              window.chesscom.stats.recentPuzzleRushes.push({\\n          date: \\'Oct 25, 2021\\',\\n          id: \\'781a5b00-3594-11ec-b7d7-fde7ef3b10ab\\',\\n          time: 1,\\n          highestSolved: 971,\\n          result: 15,\\n          shortUuid: \\'midJe\\',\\n          streak: 10,\\n          timePerPuzzle: \\'0:11\\',\\n        })\\n            </script>\\n\\n            \\n    \\n      \\n  \\n      <script defer  src=\"/bundles/app/js/navigation.client.fe836d75.js\">\\n    </script>\\n  \\n  \\n  \\n\\n              <script defer src=\"/bundles/app/js/facebook-sdk.client.1031fbd7.js\"></script>\\n            <script src=\"https://prod01.kaxsdc.com/collect/sdk?m=850100\"></script>\\n  \\n  \\n  <div id=\"checkmate\"></div> \\n      <div id=\"toaster-center\"></div>\\n  \\n        <div id=\"board-popover\"></div>\\n    <div id=\"confirm-popover\"></div>\\n    <div id=\"confirm-popover-inline\"></div>\\n    <div id=\"cookie-banner\"></div>\\n    <div id=\"form-datepicker\"></div>\\n    <div id=\"language-picker-modal\"></div>\\n    <div id=\"message-popover\"></div>\\n    <div id=\"modal-video\"></div>\\n    <div id=\"trophy-popover\"></div>\\n    <div id=\"user-popover\"></div>\\n    <div id=\"subscription-status-modal\"></div>\\n    \\n          <div id=\"ready-to-play-banner\"></div>\\n      \\n            <div id=\"login-modal\"></div>\\n    \\n          <div id=\"authentication-modal\"></div>\\n      \\n  <div id=\"guest-modal\"></div>\\n\\n    </body>\\n</html>\\n'\n"
     ]
    }
   ],
   "source": [
    "a = requests.get('https://www.chess.com/stats/puzzles/chiopra')\n",
    "print(a.content)\n",
    "#I am moving on from puzzles data as there is no api endpoint or even website for that, so for now I will try to answer other performance questions"
   ]
  },
  {
   "cell_type": "code",
   "execution_count": null,
   "id": "64bef33b",
   "metadata": {},
   "outputs": [],
   "source": []
  }
 ],
 "metadata": {
  "kernelspec": {
   "display_name": "Python 3 (ipykernel)",
   "language": "python",
   "name": "python3"
  },
  "language_info": {
   "codemirror_mode": {
    "name": "ipython",
    "version": 3
   },
   "file_extension": ".py",
   "mimetype": "text/x-python",
   "name": "python",
   "nbconvert_exporter": "python",
   "pygments_lexer": "ipython3",
   "version": "3.9.12"
  }
 },
 "nbformat": 4,
 "nbformat_minor": 5
}
