{
 "cells": [
  {
   "cell_type": "code",
   "execution_count": 3,
   "id": "adb6f7bb",
   "metadata": {
    "scrolled": true
   },
   "outputs": [],
   "source": [
    "# since you first have to create a virtual environment it get created with no jupyter notebooks preinstalled, so:\n",
    "# pip install --user ipykernel - this install the jupyter kernel \n",
    "# python -m ipykernel install --user --name=myenv - this creates the environment as kernel\n",
    "#I think there is no need to do have a virtual environment heret since it's just a notebook with analysis, "
   ]
  },
  {
   "cell_type": "code",
   "execution_count": 18,
   "id": "a0064b0d",
   "metadata": {
    "scrolled": true
   },
   "outputs": [],
   "source": [
    "\n",
    "from chessdotcom import client, get_player_game_archives\n",
    "from datetime import datetime\n",
    "import pprint\n",
    "import requests\n",
    "import pandas as pd\n",
    "\n",
    "username = 'chiopra'\n",
    "\n",
    "printer = pprint.PrettyPrinter()\n",
    "\n",
    "def print_stats(username):\n",
    "    data = client.get_player_stats(username, tts=0)\n",
    "    printer.pprint(data.json)\n",
    "\n"
   ]
  },
  {
   "cell_type": "markdown",
   "id": "fb67f144",
   "metadata": {},
   "source": [
    "### A/B Test: Playing more than 4 games per day leads to better results"
   ]
  },
  {
   "cell_type": "code",
   "execution_count": 19,
   "id": "f6523194",
   "metadata": {},
   "outputs": [],
   "source": [
    "dates = []\n",
    "results = []\n",
    "\n",
    "def appending_results(values):\n",
    "    if values['result'] == 'win':\n",
    "        results.append('win')\n",
    "    elif values['result'] == 'draw':\n",
    "        results.append('draw')\n",
    "    else:\n",
    "        results.append('loss')\n",
    "    return results\n",
    "\n",
    "def get_games(username):\n",
    "    data = get_player_game_archives(username)\n",
    "    for key,value in data.json.items():\n",
    "        for url in value:\n",
    "            games = requests.get(url).json()\n",
    "            for game in games['games']:\n",
    "                for k, v in game.items():\n",
    "                    if k == 'end_time':\n",
    "                        date = datetime.utcfromtimestamp(v).strftime('%Y-%m-%d')\n",
    "                        dates.append(date)\n",
    "                    if k == 'white' and v['username'] == 'chiopra':\n",
    "                        results = appending_results(v)\n",
    "                    elif k == 'black' and v['username'] == 'chiopra':\n",
    "                        results = appending_results(v)\n",
    "    return dates, results\n",
    "\n",
    "dates, results = get_games(username)\n",
    "\n",
    "\n",
    "#                 if game['time_class'] == 'rapid':\n",
    "#                     for k, v in game.items():\n",
    "#                         print(k)\n",
    "                #for tomorrow just the date and the result, loss or win to df and then do aggregate function to get wins/losses per day\n",
    "#                 print(type(game))\n",
    "#                 df = pd.DataFrame.from_dict(game, orient = 'columns')\n",
    "#                 print(df)\n",
    "#                 print\n",
    "#                 print(df.columns)\n",
    "#                 string = df['pgn'].to_string(index=False)\n",
    "#                 print(string)\n",
    "#                 for i in string.split('\"'):\n",
    "#                     print(i)\n",
    "#                 break;\n",
    "#             break;\n",
    "              \n",
    "    # for i in data['Archives']:\n",
    "    #     print(i)\n",
    "    # printer.pprint(data.json)\n",
    "\n",
    "# get_games(username)\n",
    "\n",
    "# print(requests.get('https://www.chess.com/game/live/1221711014').content())"
   ]
  },
  {
   "cell_type": "code",
   "execution_count": 23,
   "id": "1aee75e6",
   "metadata": {
    "scrolled": true
   },
   "outputs": [],
   "source": [
    "import numpy as np\n",
    "\n",
    "df = pd.DataFrame({'dates': dates,\n",
    "                   'results': results})"
   ]
  },
  {
   "cell_type": "code",
   "execution_count": 24,
   "id": "67b5d120",
   "metadata": {},
   "outputs": [],
   "source": [
    "#I think that it works and doesn't work sometimes because of this warning\n",
    "\n",
    "# C:\\Users\\ModestasMotiejunas\\AppData\\Local\\Temp\\ipykernel_22844\\870220668.py:17: SettingWithCopyWarning: \n",
    "# A value is trying to be set on a copy of a slice from a DataFrame.\n",
    "# Try using .loc[row_indexer,col_indexer] = value instead\n",
    "\n",
    "# See the caveats in the documentation: https://pandas.pydata.org/pandas-docs/stable/user_guide/indexing.html#returning-a-view-versus-a-copy\n",
    "#   df_test_sub['games per day'] = df_test_sub.groupby(['dates'])['count'].sum()"
   ]
  },
  {
   "cell_type": "code",
   "execution_count": 25,
   "id": "4e0c9b69",
   "metadata": {},
   "outputs": [],
   "source": [
    "import duckdb "
   ]
  },
  {
   "cell_type": "code",
   "execution_count": null,
   "id": "ea69da3d",
   "metadata": {},
   "outputs": [],
   "source": [
    "# Run these pip install commands from the command line if Jupyter Notebook is not yet installed.\n",
    "# Otherwise, see Google Collab link above for an in-notebook example\n",
    "pip install duckdb\n",
    "\n",
    "# Install Jupyter Notebook (Note: you can also install JupyterLab: pip install jupyterlab) \n",
    "pip install notebook\n",
    "\n",
    "# Install supporting libraries\n",
    "pip install jupysql\n",
    "pip install duckdb-engine\n",
    "pip install pandas       # conda install pandas (in case pip fails)\n",
    "pip install matplotlib"
   ]
  },
  {
   "cell_type": "code",
   "execution_count": 26,
   "id": "e6114567",
   "metadata": {},
   "outputs": [
    {
     "name": "stdout",
     "output_type": "stream",
     "text": [
      "The sql extension is already loaded. To reload it, use:\n",
      "  %reload_ext sql\n"
     ]
    }
   ],
   "source": [
    "%load_ext sql"
   ]
  },
  {
   "cell_type": "code",
   "execution_count": 27,
   "id": "8e40ef46",
   "metadata": {},
   "outputs": [],
   "source": [
    "%config SqlMagic.autopandas = True\n",
    "%config SqlMagic.feedback = False\n",
    "%config SqlMagic.displaycon = False"
   ]
  },
  {
   "cell_type": "code",
   "execution_count": 28,
   "id": "a9109e40",
   "metadata": {},
   "outputs": [],
   "source": [
    "%sql duckdb:///:memory:"
   ]
  },
  {
   "cell_type": "code",
   "execution_count": 31,
   "id": "1d95375b",
   "metadata": {},
   "outputs": [],
   "source": []
  },
  {
   "cell_type": "code",
   "execution_count": 32,
   "id": "a2c976b2",
   "metadata": {},
   "outputs": [
    {
     "data": {
      "text/html": [
       "<div>\n",
       "<style scoped>\n",
       "    .dataframe tbody tr th:only-of-type {\n",
       "        vertical-align: middle;\n",
       "    }\n",
       "\n",
       "    .dataframe tbody tr th {\n",
       "        vertical-align: top;\n",
       "    }\n",
       "\n",
       "    .dataframe thead th {\n",
       "        text-align: right;\n",
       "    }\n",
       "</style>\n",
       "<table border=\"1\" class=\"dataframe\">\n",
       "  <thead>\n",
       "    <tr style=\"text-align: right;\">\n",
       "      <th></th>\n",
       "      <th>5</th>\n",
       "    </tr>\n",
       "  </thead>\n",
       "  <tbody>\n",
       "    <tr>\n",
       "      <th>0</th>\n",
       "      <td>5</td>\n",
       "    </tr>\n",
       "  </tbody>\n",
       "</table>\n",
       "</div>"
      ],
      "text/plain": [
       "   5\n",
       "0  5"
      ]
     },
     "execution_count": 32,
     "metadata": {},
     "output_type": "execute_result"
    }
   ],
   "source": []
  },
  {
   "cell_type": "code",
   "execution_count": 58,
   "id": "a41c0cac",
   "metadata": {},
   "outputs": [],
   "source": [
    "#without \\ you could not have separate rows for sql script\n",
    "%sql df_agg << WITH fully AS \\\n",
    "(SELECT *,cast(count(dates) as float) as count \\\n",
    "FROM df GROUP BY dates, results), \\\n",
    "sub as \\\n",
    "(SELECT dates, cast(count(dates) as float) as games \\\n",
    "FROM df GROUP BY dates) \\\n",
    "select f.*, s.games, (f.count/s.games)*100 as percentage from fully f \\\n",
    "left join sub s on s.dates = f.dates \\\n",
    "where f.results = 'win' and games > 1 and games < 18\n",
    "\n"
   ]
  },
  {
   "cell_type": "code",
   "execution_count": 71,
   "id": "ff57d08e",
   "metadata": {},
   "outputs": [
    {
     "data": {
      "text/html": [
       "<div>\n",
       "<style scoped>\n",
       "    .dataframe tbody tr th:only-of-type {\n",
       "        vertical-align: middle;\n",
       "    }\n",
       "\n",
       "    .dataframe tbody tr th {\n",
       "        vertical-align: top;\n",
       "    }\n",
       "\n",
       "    .dataframe thead th {\n",
       "        text-align: right;\n",
       "    }\n",
       "</style>\n",
       "<table border=\"1\" class=\"dataframe\">\n",
       "  <thead>\n",
       "    <tr style=\"text-align: right;\">\n",
       "      <th></th>\n",
       "      <th>dates</th>\n",
       "      <th>results</th>\n",
       "      <th>count</th>\n",
       "      <th>games</th>\n",
       "      <th>percentage</th>\n",
       "    </tr>\n",
       "  </thead>\n",
       "  <tbody>\n",
       "    <tr>\n",
       "      <th>0</th>\n",
       "      <td>2020-07-13</td>\n",
       "      <td>win</td>\n",
       "      <td>5.0</td>\n",
       "      <td>11.0</td>\n",
       "      <td>45.454548</td>\n",
       "    </tr>\n",
       "    <tr>\n",
       "      <th>1</th>\n",
       "      <td>2020-07-15</td>\n",
       "      <td>win</td>\n",
       "      <td>2.0</td>\n",
       "      <td>7.0</td>\n",
       "      <td>28.571430</td>\n",
       "    </tr>\n",
       "    <tr>\n",
       "      <th>2</th>\n",
       "      <td>2020-12-01</td>\n",
       "      <td>win</td>\n",
       "      <td>1.0</td>\n",
       "      <td>3.0</td>\n",
       "      <td>33.333336</td>\n",
       "    </tr>\n",
       "    <tr>\n",
       "      <th>3</th>\n",
       "      <td>2020-12-03</td>\n",
       "      <td>win</td>\n",
       "      <td>3.0</td>\n",
       "      <td>5.0</td>\n",
       "      <td>60.000004</td>\n",
       "    </tr>\n",
       "    <tr>\n",
       "      <th>4</th>\n",
       "      <td>2020-12-04</td>\n",
       "      <td>win</td>\n",
       "      <td>2.0</td>\n",
       "      <td>2.0</td>\n",
       "      <td>100.000000</td>\n",
       "    </tr>\n",
       "  </tbody>\n",
       "</table>\n",
       "</div>"
      ],
      "text/plain": [
       "        dates results  count  games  percentage\n",
       "0  2020-07-13     win    5.0   11.0   45.454548\n",
       "1  2020-07-15     win    2.0    7.0   28.571430\n",
       "2  2020-12-01     win    1.0    3.0   33.333336\n",
       "3  2020-12-03     win    3.0    5.0   60.000004\n",
       "4  2020-12-04     win    2.0    2.0  100.000000"
      ]
     },
     "execution_count": 71,
     "metadata": {},
     "output_type": "execute_result"
    }
   ],
   "source": [
    "df_agg.head()\n",
    "# print(df_agg['games'].sum())"
   ]
  },
  {
   "cell_type": "code",
   "execution_count": 60,
   "id": "acb5a98a",
   "metadata": {},
   "outputs": [],
   "source": [
    "%sql df_average << select games, avg(percentage) \\\n",
    "from df_agg \\\n",
    "group by games"
   ]
  },
  {
   "cell_type": "code",
   "execution_count": 68,
   "id": "18d660aa",
   "metadata": {},
   "outputs": [],
   "source": [
    "%sql df_count << select games, count(games) \\\n",
    "from df_agg \\\n",
    "group by games"
   ]
  },
  {
   "cell_type": "code",
   "execution_count": 76,
   "id": "9cf2a179",
   "metadata": {},
   "outputs": [],
   "source": [
    "%sql df_overall_avg << select sum(count)/sum(games)*100 as overall \\\n",
    "from df_agg \n"
   ]
  },
  {
   "cell_type": "code",
   "execution_count": 77,
   "id": "6afea913",
   "metadata": {},
   "outputs": [
    {
     "data": {
      "text/html": [
       "<div>\n",
       "<style scoped>\n",
       "    .dataframe tbody tr th:only-of-type {\n",
       "        vertical-align: middle;\n",
       "    }\n",
       "\n",
       "    .dataframe tbody tr th {\n",
       "        vertical-align: top;\n",
       "    }\n",
       "\n",
       "    .dataframe thead th {\n",
       "        text-align: right;\n",
       "    }\n",
       "</style>\n",
       "<table border=\"1\" class=\"dataframe\">\n",
       "  <thead>\n",
       "    <tr style=\"text-align: right;\">\n",
       "      <th></th>\n",
       "      <th>overall</th>\n",
       "    </tr>\n",
       "  </thead>\n",
       "  <tbody>\n",
       "    <tr>\n",
       "      <th>0</th>\n",
       "      <td>52.952953</td>\n",
       "    </tr>\n",
       "  </tbody>\n",
       "</table>\n",
       "</div>"
      ],
      "text/plain": [
       "     overall\n",
       "0  52.952953"
      ]
     },
     "execution_count": 77,
     "metadata": {},
     "output_type": "execute_result"
    }
   ],
   "source": [
    "df_overall_avg.head()"
   ]
  },
  {
   "cell_type": "code",
   "execution_count": 61,
   "id": "a6890b4a",
   "metadata": {},
   "outputs": [
    {
     "data": {
      "text/html": [
       "<div>\n",
       "<style scoped>\n",
       "    .dataframe tbody tr th:only-of-type {\n",
       "        vertical-align: middle;\n",
       "    }\n",
       "\n",
       "    .dataframe tbody tr th {\n",
       "        vertical-align: top;\n",
       "    }\n",
       "\n",
       "    .dataframe thead th {\n",
       "        text-align: right;\n",
       "    }\n",
       "</style>\n",
       "<table border=\"1\" class=\"dataframe\">\n",
       "  <thead>\n",
       "    <tr style=\"text-align: right;\">\n",
       "      <th></th>\n",
       "      <th>games</th>\n",
       "      <th>avg(percentage)</th>\n",
       "    </tr>\n",
       "  </thead>\n",
       "  <tbody>\n",
       "    <tr>\n",
       "      <th>0</th>\n",
       "      <td>11.0</td>\n",
       "      <td>51.515153</td>\n",
       "    </tr>\n",
       "    <tr>\n",
       "      <th>1</th>\n",
       "      <td>7.0</td>\n",
       "      <td>50.649353</td>\n",
       "    </tr>\n",
       "    <tr>\n",
       "      <th>2</th>\n",
       "      <td>3.0</td>\n",
       "      <td>43.333337</td>\n",
       "    </tr>\n",
       "    <tr>\n",
       "      <th>3</th>\n",
       "      <td>5.0</td>\n",
       "      <td>46.666668</td>\n",
       "    </tr>\n",
       "    <tr>\n",
       "      <th>4</th>\n",
       "      <td>2.0</td>\n",
       "      <td>68.750000</td>\n",
       "    </tr>\n",
       "  </tbody>\n",
       "</table>\n",
       "</div>"
      ],
      "text/plain": [
       "   games  avg(percentage)\n",
       "0   11.0        51.515153\n",
       "1    7.0        50.649353\n",
       "2    3.0        43.333337\n",
       "3    5.0        46.666668\n",
       "4    2.0        68.750000"
      ]
     },
     "execution_count": 61,
     "metadata": {},
     "output_type": "execute_result"
    }
   ],
   "source": [
    "df_average.head()"
   ]
  },
  {
   "cell_type": "code",
   "execution_count": 62,
   "id": "61ab3834",
   "metadata": {},
   "outputs": [
    {
     "data": {
      "text/plain": [
       "<BarContainer object of 15 artists>"
      ]
     },
     "execution_count": 62,
     "metadata": {},
     "output_type": "execute_result"
    },
    {
     "data": {
      "image/png": "[encoded data removed]",
      "text/plain": [
       "<Figure size 432x288 with 1 Axes>"
      ]
     },
     "metadata": {
      "needs_background": "light"
     },
     "output_type": "display_data"
    }
   ],
   "source": [
    "import matplotlib.pyplot as plt\n",
    "\n",
    "plt.bar(df_average['games'], df_average['avg(percentage)'])"
   ]
  },
  {
   "cell_type": "code",
   "execution_count": 69,
   "id": "2176027d",
   "metadata": {},
   "outputs": [
    {
     "data": {
      "text/plain": [
       "<BarContainer object of 15 artists>"
      ]
     },
     "execution_count": 69,
     "metadata": {},
     "output_type": "execute_result"
    },
    {
     "data": {
      "image/png": "[encoded data removed]",
      "text/plain": [
       "<Figure size 432x288 with 1 Axes>"
      ]
     },
     "metadata": {
      "needs_background": "light"
     },
     "output_type": "display_data"
    }
   ],
   "source": [
    "import matplotlib.pyplot as plt\n",
    "\n",
    "plt.bar(df_count['games'], df_count['count(games)'])"
   ]
  },
  {
   "cell_type": "code",
   "execution_count": null,
   "id": "64b50feb",
   "metadata": {},
   "outputs": [],
   "source": []
  }
 ],
 "metadata": {
  "kernelspec": {
   "display_name": "Python 3 (ipykernel)",
   "language": "python",
   "name": "python3"
  },
  "language_info": {
   "codemirror_mode": {
    "name": "ipython",
    "version": 3
   },
   "file_extension": ".py",
   "mimetype": "text/x-python",
   "name": "python",
   "nbconvert_exporter": "python",
   "pygments_lexer": "ipython3",
   "version": "3.9.12"
  }
 },
 "nbformat": 4,
 "nbformat_minor": 5
}
