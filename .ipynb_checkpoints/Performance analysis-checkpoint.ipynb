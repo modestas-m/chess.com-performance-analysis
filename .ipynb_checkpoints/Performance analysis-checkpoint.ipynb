{
 "cells": [
  {
   "cell_type": "code",
   "execution_count": 3,
   "id": "adb6f7bb",
   "metadata": {
    "scrolled": true
   },
   "outputs": [],
   "source": [
    "# since you first have to create a virtual environment it get created with no jupyter notebooks preinstalled, so:\n",
    "# pip install --user ipykernel - this install the jupyter kernel \n",
    "# python -m ipykernel install --user --name=myenv - this creates the environment as kernel\n",
    "#I think there is no need to do have a virtual environment heret since it's just a notebook with analysis, "
   ]
  },
  {
   "cell_type": "code",
   "execution_count": null,
   "id": "b28d3a4b",
   "metadata": {},
   "outputs": [],
   "source": [
    "# Run these pip install commands from the command line if Jupyter Notebook is not yet installed.\n",
    "# Otherwise, see Google Collab link above for an in-notebook example\n",
    "pip install duckdb\n",
    "\n",
    "# Install Jupyter Notebook (Note: you can also install JupyterLab: pip install jupyterlab) \n",
    "pip install notebook\n",
    "\n",
    "# Install supporting libraries\n",
    "pip install jupysql\n",
    "pip install duckdb-engine\n",
    "pip install pandas       # conda install pandas (in case pip fails)\n",
    "pip install matplotlib"
   ]
  },
  {
   "cell_type": "code",
   "execution_count": 2,
   "id": "88e4edbb",
   "metadata": {},
   "outputs": [
    {
     "name": "stdout",
     "output_type": "stream",
     "text": [
      "\u001b[33mThere's a new jupysql version available (0.6.6), you're running 0.6.2. To upgrade: pip install jupysql --upgrade\u001b[0m\n"
     ]
    }
   ],
   "source": [
    "%load_ext sql\n",
    "\n",
    "%config SqlMagic.autopandas = True\n",
    "%config SqlMagic.feedback = False\n",
    "%config SqlMagic.displaycon = False\n",
    "\n",
    "%sql duckdb:///:memory:"
   ]
  },
  {
   "cell_type": "code",
   "execution_count": 3,
   "id": "a0064b0d",
   "metadata": {
    "scrolled": true
   },
   "outputs": [],
   "source": [
    "#Importing all the required packages\n",
    "from chessdotcom import client, get_player_game_archives\n",
    "from datetime import datetime\n",
    "import pprint\n",
    "import requests\n",
    "import pandas as pd\n",
    "import duckdb "
   ]
  },
  {
   "cell_type": "code",
   "execution_count": 4,
   "id": "84b2d74c",
   "metadata": {},
   "outputs": [
    {
     "name": "stdout",
     "output_type": "stream",
     "text": [
      "{'stats': {'chess_blitz': {'best': {'date': 1437375600,\n",
      "                                    'game': 'https://www.chess.com/game/live/64361468515',\n",
      "                                    'rating': 1200},\n",
      "                           'last': {'date': 1678741839,\n",
      "                                    'rating': 867,\n",
      "                                    'rd': 46},\n",
      "                           'record': {'draw': 32, 'loss': 535, 'win': 560}},\n",
      "           'chess_bullet': {'last': {'date': 1669305049,\n",
      "                                     'rating': 871,\n",
      "                                     'rd': 202},\n",
      "                            'record': {'draw': 0, 'loss': 3, 'win': 0}},\n",
      "           'chess_rapid': {'best': {'date': 1677763272,\n",
      "                                    'game': 'https://www.chess.com/game/live/71582671427',\n",
      "                                    'rating': 1306},\n",
      "                           'last': {'date': 1677844996,\n",
      "                                    'rating': 1294,\n",
      "                                    'rd': 34},\n",
      "                           'record': {'draw': 33, 'loss': 431, 'win': 498}},\n",
      "           'fide': 0,\n",
      "           'puzzle_rush': {'best': {'score': 22, 'total_attempts': 25}},\n",
      "           'tactics': {'highest': {'date': 1664204149, 'rating': 2117},\n",
      "                       'lowest': {'date': 1626329700, 'rating': 875}}}}\n"
     ]
    }
   ],
   "source": [
    "username = 'chiopra'\n",
    "\n",
    "printer = pprint.PrettyPrinter()\n",
    "\n",
    "def print_stats(username):\n",
    "    data = client.get_player_stats(username, tts=0)\n",
    "    printer.pprint(data.json)\n",
    "\n",
    "print_stats(username)"
   ]
  },
  {
   "cell_type": "markdown",
   "id": "fb67f144",
   "metadata": {},
   "source": [
    "### A/B Test: Playing more than 4 games per day leads to better results"
   ]
  },
  {
   "cell_type": "code",
   "execution_count": 5,
   "id": "f6523194",
   "metadata": {},
   "outputs": [
    {
     "name": "stdout",
     "output_type": "stream",
     "text": [
      "ChessDotComResponse(archives=['https://api.chess.com/pub/player/chiopra/games/2015/07', 'https://api.chess.com/pub/player/chiopra/games/2020/07', 'https://api.chess.com/pub/player/chiopra/games/2020/12', 'https://api.chess.com/pub/player/chiopra/games/2021/03', 'https://api.chess.com/pub/player/chiopra/games/2021/06', 'https://api.chess.com/pub/player/chiopra/games/2021/07', 'https://api.chess.com/pub/player/chiopra/games/2021/08', 'https://api.chess.com/pub/player/chiopra/games/2021/09', 'https://api.chess.com/pub/player/chiopra/games/2021/10', 'https://api.chess.com/pub/player/chiopra/games/2021/11', 'https://api.chess.com/pub/player/chiopra/games/2021/12', 'https://api.chess.com/pub/player/chiopra/games/2022/01', 'https://api.chess.com/pub/player/chiopra/games/2022/02', 'https://api.chess.com/pub/player/chiopra/games/2022/03', 'https://api.chess.com/pub/player/chiopra/games/2022/04', 'https://api.chess.com/pub/player/chiopra/games/2022/09', 'https://api.chess.com/pub/player/chiopra/games/2022/10', 'https://api.chess.com/pub/player/chiopra/games/2022/11', 'https://api.chess.com/pub/player/chiopra/games/2022/12', 'https://api.chess.com/pub/player/chiopra/games/2023/02', 'https://api.chess.com/pub/player/chiopra/games/2023/03'])\n"
     ]
    }
   ],
   "source": [
    "dates = []\n",
    "results = []\n",
    "\n",
    "def appending_results(values):\n",
    "    if values['result'] == 'win':\n",
    "        results.append('win')\n",
    "    elif values['result'] == 'draw':\n",
    "        results.append('draw')\n",
    "    else:\n",
    "        results.append('loss')\n",
    "    return results\n",
    "\n",
    "def get_games(username):\n",
    "    data = get_player_game_archives(username)\n",
    "    print(data)\n",
    "    for key,value in data.json.items():\n",
    "        for url in value:\n",
    "            games = requests.get(url).json()\n",
    "            for game in games['games']:\n",
    "                for k, v in game.items():\n",
    "                    if k == 'end_time':\n",
    "                        date = datetime.utcfromtimestamp(v).strftime('%Y-%m-%d')\n",
    "                        dates.append(date)\n",
    "                    if k == 'white' and v['username'] == 'chiopra':\n",
    "                        results = appending_results(v)\n",
    "                    elif k == 'black' and v['username'] == 'chiopra':\n",
    "                        results = appending_results(v)\n",
    "    return dates, results\n",
    "\n",
    "dates, results = get_games(username)\n",
    "\n",
    "\n",
    "#                 if game['time_class'] == 'rapid':\n",
    "#                     for k, v in game.items():\n",
    "#                         print(k)\n",
    "                #for tomorrow just the date and the result, loss or win to df and then do aggregate function to get wins/losses per day\n",
    "#                 print(type(game))\n",
    "#                 df = pd.DataFrame.from_dict(game, orient = 'columns')\n",
    "#                 print(df)\n",
    "#                 print\n",
    "#                 print(df.columns)\n",
    "#                 string = df['pgn'].to_string(index=False)\n",
    "#                 print(string)\n",
    "#                 for i in string.split('\"'):\n",
    "#                     print(i)\n",
    "#                 break;\n",
    "#             break;\n",
    "              \n",
    "    # for i in data['Archives']:\n",
    "    #     print(i)\n",
    "    # printer.pprint(data.json)\n",
    "\n",
    "# get_games(username)\n",
    "\n",
    "# print(requests.get('https://www.chess.com/game/live/1221711014').content())"
   ]
  },
  {
   "cell_type": "code",
   "execution_count": 6,
   "id": "1aee75e6",
   "metadata": {
    "scrolled": true
   },
   "outputs": [],
   "source": [
    "import numpy as np\n",
    "\n",
    "df = pd.DataFrame({'dates': dates,\n",
    "                   'results': results})"
   ]
  },
  {
   "cell_type": "code",
   "execution_count": null,
   "id": "8e40ef46",
   "metadata": {},
   "outputs": [],
   "source": []
  },
  {
   "cell_type": "code",
   "execution_count": 7,
   "id": "a41c0cac",
   "metadata": {},
   "outputs": [],
   "source": [
    "#without \\ you could not have separate rows for sql script\n",
    "%sql df_agg << WITH fully AS \\\n",
    "(SELECT *,cast(count(dates) as float) as count \\\n",
    "FROM df GROUP BY dates, results), \\\n",
    "sub as \\\n",
    "(SELECT dates, cast(count(dates) as float) as games \\\n",
    "FROM df GROUP BY dates) \\\n",
    "select f.*, s.games, (f.count/s.games)*100 as percentage from fully f \\\n",
    "left join sub s on s.dates = f.dates \\\n",
    "where f.results = 'win' and games > 1 and games < 18\n",
    "\n"
   ]
  },
  {
   "cell_type": "code",
   "execution_count": 8,
   "id": "ff57d08e",
   "metadata": {},
   "outputs": [
    {
     "data": {
      "text/html": [
       "<div>\n",
       "<style scoped>\n",
       "    .dataframe tbody tr th:only-of-type {\n",
       "        vertical-align: middle;\n",
       "    }\n",
       "\n",
       "    .dataframe tbody tr th {\n",
       "        vertical-align: top;\n",
       "    }\n",
       "\n",
       "    .dataframe thead th {\n",
       "        text-align: right;\n",
       "    }\n",
       "</style>\n",
       "<table border=\"1\" class=\"dataframe\">\n",
       "  <thead>\n",
       "    <tr style=\"text-align: right;\">\n",
       "      <th></th>\n",
       "      <th>dates</th>\n",
       "      <th>results</th>\n",
       "      <th>count</th>\n",
       "      <th>games</th>\n",
       "      <th>percentage</th>\n",
       "    </tr>\n",
       "  </thead>\n",
       "  <tbody>\n",
       "    <tr>\n",
       "      <th>0</th>\n",
       "      <td>2020-07-13</td>\n",
       "      <td>win</td>\n",
       "      <td>5.0</td>\n",
       "      <td>11.0</td>\n",
       "      <td>45.454548</td>\n",
       "    </tr>\n",
       "    <tr>\n",
       "      <th>1</th>\n",
       "      <td>2020-07-15</td>\n",
       "      <td>win</td>\n",
       "      <td>2.0</td>\n",
       "      <td>7.0</td>\n",
       "      <td>28.571430</td>\n",
       "    </tr>\n",
       "    <tr>\n",
       "      <th>2</th>\n",
       "      <td>2020-12-01</td>\n",
       "      <td>win</td>\n",
       "      <td>1.0</td>\n",
       "      <td>3.0</td>\n",
       "      <td>33.333336</td>\n",
       "    </tr>\n",
       "    <tr>\n",
       "      <th>3</th>\n",
       "      <td>2020-12-03</td>\n",
       "      <td>win</td>\n",
       "      <td>3.0</td>\n",
       "      <td>5.0</td>\n",
       "      <td>60.000004</td>\n",
       "    </tr>\n",
       "    <tr>\n",
       "      <th>4</th>\n",
       "      <td>2020-12-04</td>\n",
       "      <td>win</td>\n",
       "      <td>2.0</td>\n",
       "      <td>2.0</td>\n",
       "      <td>100.000000</td>\n",
       "    </tr>\n",
       "  </tbody>\n",
       "</table>\n",
       "</div>"
      ],
      "text/plain": [
       "        dates results  count  games  percentage\n",
       "0  2020-07-13     win    5.0   11.0   45.454548\n",
       "1  2020-07-15     win    2.0    7.0   28.571430\n",
       "2  2020-12-01     win    1.0    3.0   33.333336\n",
       "3  2020-12-03     win    3.0    5.0   60.000004\n",
       "4  2020-12-04     win    2.0    2.0  100.000000"
      ]
     },
     "execution_count": 8,
     "metadata": {},
     "output_type": "execute_result"
    }
   ],
   "source": [
    "df_agg.head()\n",
    "# print(df_agg['games'].sum())"
   ]
  },
  {
   "cell_type": "code",
   "execution_count": 9,
   "id": "acb5a98a",
   "metadata": {},
   "outputs": [],
   "source": [
    "%sql df_average << select games, avg(percentage) \\\n",
    "from df_agg \\\n",
    "group by games"
   ]
  },
  {
   "cell_type": "code",
   "execution_count": 10,
   "id": "18d660aa",
   "metadata": {},
   "outputs": [],
   "source": [
    "%sql df_count << select games, count(games) \\\n",
    "from df_agg \\\n",
    "group by games"
   ]
  },
  {
   "cell_type": "code",
   "execution_count": 11,
   "id": "9cf2a179",
   "metadata": {},
   "outputs": [],
   "source": [
    "%sql df_overall_avg << select sum(count)/sum(games)*100 as overall \\\n",
    "from df_agg \n"
   ]
  },
  {
   "cell_type": "code",
   "execution_count": 12,
   "id": "6afea913",
   "metadata": {},
   "outputs": [
    {
     "data": {
      "text/html": [
       "<div>\n",
       "<style scoped>\n",
       "    .dataframe tbody tr th:only-of-type {\n",
       "        vertical-align: middle;\n",
       "    }\n",
       "\n",
       "    .dataframe tbody tr th {\n",
       "        vertical-align: top;\n",
       "    }\n",
       "\n",
       "    .dataframe thead th {\n",
       "        text-align: right;\n",
       "    }\n",
       "</style>\n",
       "<table border=\"1\" class=\"dataframe\">\n",
       "  <thead>\n",
       "    <tr style=\"text-align: right;\">\n",
       "      <th></th>\n",
       "      <th>overall</th>\n",
       "    </tr>\n",
       "  </thead>\n",
       "  <tbody>\n",
       "    <tr>\n",
       "      <th>0</th>\n",
       "      <td>53.180915</td>\n",
       "    </tr>\n",
       "  </tbody>\n",
       "</table>\n",
       "</div>"
      ],
      "text/plain": [
       "     overall\n",
       "0  53.180915"
      ]
     },
     "execution_count": 12,
     "metadata": {},
     "output_type": "execute_result"
    }
   ],
   "source": [
    "df_overall_avg.head()"
   ]
  },
  {
   "cell_type": "code",
   "execution_count": 13,
   "id": "a6890b4a",
   "metadata": {},
   "outputs": [
    {
     "data": {
      "text/html": [
       "<div>\n",
       "<style scoped>\n",
       "    .dataframe tbody tr th:only-of-type {\n",
       "        vertical-align: middle;\n",
       "    }\n",
       "\n",
       "    .dataframe tbody tr th {\n",
       "        vertical-align: top;\n",
       "    }\n",
       "\n",
       "    .dataframe thead th {\n",
       "        text-align: right;\n",
       "    }\n",
       "</style>\n",
       "<table border=\"1\" class=\"dataframe\">\n",
       "  <thead>\n",
       "    <tr style=\"text-align: right;\">\n",
       "      <th></th>\n",
       "      <th>games</th>\n",
       "      <th>avg(percentage)</th>\n",
       "    </tr>\n",
       "  </thead>\n",
       "  <tbody>\n",
       "    <tr>\n",
       "      <th>0</th>\n",
       "      <td>11.0</td>\n",
       "      <td>51.515153</td>\n",
       "    </tr>\n",
       "    <tr>\n",
       "      <th>1</th>\n",
       "      <td>7.0</td>\n",
       "      <td>53.571431</td>\n",
       "    </tr>\n",
       "    <tr>\n",
       "      <th>2</th>\n",
       "      <td>3.0</td>\n",
       "      <td>43.333337</td>\n",
       "    </tr>\n",
       "    <tr>\n",
       "      <th>3</th>\n",
       "      <td>5.0</td>\n",
       "      <td>46.666668</td>\n",
       "    </tr>\n",
       "    <tr>\n",
       "      <th>4</th>\n",
       "      <td>2.0</td>\n",
       "      <td>68.750000</td>\n",
       "    </tr>\n",
       "  </tbody>\n",
       "</table>\n",
       "</div>"
      ],
      "text/plain": [
       "   games  avg(percentage)\n",
       "0   11.0        51.515153\n",
       "1    7.0        53.571431\n",
       "2    3.0        43.333337\n",
       "3    5.0        46.666668\n",
       "4    2.0        68.750000"
      ]
     },
     "execution_count": 13,
     "metadata": {},
     "output_type": "execute_result"
    }
   ],
   "source": [
    "df_average.head()"
   ]
  },
  {
   "cell_type": "code",
   "execution_count": 14,
   "id": "61ab3834",
   "metadata": {},
   "outputs": [
    {
     "data": {
      "text/plain": [
       "<BarContainer object of 15 artists>"
      ]
     },
     "execution_count": 14,
     "metadata": {},
     "output_type": "execute_result"
    },
    {
     "data": {
      "image/png": "[encoded data removed]",
      "text/plain": [
       "<Figure size 432x288 with 1 Axes>"
      ]
     },
     "metadata": {
      "needs_background": "light"
     },
     "output_type": "display_data"
    }
   ],
   "source": [
    "import matplotlib.pyplot as plt\n",
    "\n",
    "plt.bar(df_average['games'], df_average['avg(percentage)'])"
   ]
  },
  {
   "cell_type": "code",
   "execution_count": 15,
   "id": "2176027d",
   "metadata": {},
   "outputs": [
    {
     "data": {
      "text/plain": [
       "<BarContainer object of 15 artists>"
      ]
     },
     "execution_count": 15,
     "metadata": {},
     "output_type": "execute_result"
    },
    {
     "data": {
      "image/png": "[encoded data removed]",
      "text/plain": [
       "<Figure size 432x288 with 1 Axes>"
      ]
     },
     "metadata": {
      "needs_background": "light"
     },
     "output_type": "display_data"
    }
   ],
   "source": [
    "import matplotlib.pyplot as plt\n",
    "\n",
    "plt.bar(df_count['games'], df_count['count(games)'])"
   ]
  },
  {
   "cell_type": "markdown",
   "id": "03383674",
   "metadata": {},
   "source": [
    "### Performance questions:\n",
    " #### - does performance change with games per day ?\n",
    " #### - is performance impacted by the puzzles done in a day ?\n",
    " #### - does consistency have impact on performance ?\n",
    " #### - "
   ]
  },
  {
   "cell_type": "code",
   "execution_count": 16,
   "id": "681c907d",
   "metadata": {},
   "outputs": [],
   "source": [
    "#I am moving on from puzzles data as there is no api endpoint or even website for that, so for now I will try to answer other performance questions"
   ]
  },
  {
   "cell_type": "code",
   "execution_count": 20,
   "id": "6bb1422e",
   "metadata": {
    "scrolled": true
   },
   "outputs": [],
   "source": [
    "%sql df_dates << select cast(dates as date) as dates, cast(lag(dates) over(order by dates) as date) as previous_date, \\\n",
    "from df group by dates\n",
    "\n",
    "\n",
    "# select dates, datediff('day', lag(dates, -1), dates), row_number() over() \\\n",
    "# from df \\\n",
    "# group by dates\n"
   ]
  },
  {
   "cell_type": "code",
   "execution_count": 26,
   "id": "7cae1198",
   "metadata": {},
   "outputs": [
    {
     "name": "stdout",
     "output_type": "stream",
     "text": [
      "(duckdb.BinderException) Binder Error: Column \"streak\" referenced that exists in the SELECT clause - but this column cannot be referenced before it is defined\n",
      "[SQL: select dates, previous_date, date_diff('day', previous_date, dates) as days_since_last_game ,case when days_since_last_game <> 1 then 0 else 1 end as streak_day, streak + lag(streak_day) OVER () as streak from df_dates where previous_date is not null and dates is not null]\n",
      "(Background on this error at: https://sqlalche.me/e/14/f405)\n"
     ]
    }
   ],
   "source": [
    "%sql df_last_game << select dates, previous_date, \\\n",
    "date_diff('day', previous_date, dates) as days_since_last_game\\\n",
    ",case when days_since_last_game <> 1 then 0 else 1 end as streak_day, \\\n",
    "case when streak_day = 0 then 0 else\n",
    "streak + lag(streak_day) OVER () as streak \\\n",
    "from df_dates \\\n",
    "where previous_date is not null and dates is not null "
   ]
  },
  {
   "cell_type": "code",
   "execution_count": 25,
   "id": "950ae8a4",
   "metadata": {},
   "outputs": [
    {
     "data": {
      "text/html": [
       "<div>\n",
       "<style scoped>\n",
       "    .dataframe tbody tr th:only-of-type {\n",
       "        vertical-align: middle;\n",
       "    }\n",
       "\n",
       "    .dataframe tbody tr th {\n",
       "        vertical-align: top;\n",
       "    }\n",
       "\n",
       "    .dataframe thead th {\n",
       "        text-align: right;\n",
       "    }\n",
       "</style>\n",
       "<table border=\"1\" class=\"dataframe\">\n",
       "  <thead>\n",
       "    <tr style=\"text-align: right;\">\n",
       "      <th></th>\n",
       "      <th>dates</th>\n",
       "      <th>previous_date</th>\n",
       "      <th>days_since_last_game</th>\n",
       "      <th>streak_day</th>\n",
       "      <th>streak</th>\n",
       "    </tr>\n",
       "  </thead>\n",
       "  <tbody>\n",
       "    <tr>\n",
       "      <th>0</th>\n",
       "      <td>2020-07-12</td>\n",
       "      <td>2015-07-20</td>\n",
       "      <td>1819</td>\n",
       "      <td>0</td>\n",
       "      <td>NaN</td>\n",
       "    </tr>\n",
       "    <tr>\n",
       "      <th>1</th>\n",
       "      <td>2020-07-13</td>\n",
       "      <td>2020-07-12</td>\n",
       "      <td>1</td>\n",
       "      <td>1</td>\n",
       "      <td>1.0</td>\n",
       "    </tr>\n",
       "    <tr>\n",
       "      <th>2</th>\n",
       "      <td>2020-07-14</td>\n",
       "      <td>2020-07-13</td>\n",
       "      <td>1</td>\n",
       "      <td>1</td>\n",
       "      <td>2.0</td>\n",
       "    </tr>\n",
       "    <tr>\n",
       "      <th>3</th>\n",
       "      <td>2020-07-15</td>\n",
       "      <td>2020-07-14</td>\n",
       "      <td>1</td>\n",
       "      <td>1</td>\n",
       "      <td>2.0</td>\n",
       "    </tr>\n",
       "    <tr>\n",
       "      <th>4</th>\n",
       "      <td>2020-07-21</td>\n",
       "      <td>2020-07-15</td>\n",
       "      <td>6</td>\n",
       "      <td>0</td>\n",
       "      <td>1.0</td>\n",
       "    </tr>\n",
       "  </tbody>\n",
       "</table>\n",
       "</div>"
      ],
      "text/plain": [
       "        dates previous_date  days_since_last_game  streak_day  streak\n",
       "0  2020-07-12    2015-07-20                  1819           0     NaN\n",
       "1  2020-07-13    2020-07-12                     1           1     1.0\n",
       "2  2020-07-14    2020-07-13                     1           1     2.0\n",
       "3  2020-07-15    2020-07-14                     1           1     2.0\n",
       "4  2020-07-21    2020-07-15                     6           0     1.0"
      ]
     },
     "execution_count": 25,
     "metadata": {},
     "output_type": "execute_result"
    }
   ],
   "source": [
    "df_last_game.head()"
   ]
  },
  {
   "cell_type": "code",
   "execution_count": null,
   "id": "58e9841e",
   "metadata": {},
   "outputs": [],
   "source": [
    "import matplotlib.pyplot as plt\n",
    "\n",
    "plt.bar(df_last_game['games'], df_count['count(games)'])"
   ]
  },
  {
   "cell_type": "code",
   "execution_count": 15,
   "id": "d453b894",
   "metadata": {},
   "outputs": [
    {
     "data": {
      "text/html": [
       "<div>\n",
       "<style scoped>\n",
       "    .dataframe tbody tr th:only-of-type {\n",
       "        vertical-align: middle;\n",
       "    }\n",
       "\n",
       "    .dataframe tbody tr th {\n",
       "        vertical-align: top;\n",
       "    }\n",
       "\n",
       "    .dataframe thead th {\n",
       "        text-align: right;\n",
       "    }\n",
       "</style>\n",
       "<table border=\"1\" class=\"dataframe\">\n",
       "  <thead>\n",
       "    <tr style=\"text-align: right;\">\n",
       "      <th></th>\n",
       "      <th>current_date()</th>\n",
       "    </tr>\n",
       "  </thead>\n",
       "  <tbody>\n",
       "    <tr>\n",
       "      <th>0</th>\n",
       "      <td>2023-03-17</td>\n",
       "    </tr>\n",
       "  </tbody>\n",
       "</table>\n",
       "</div>"
      ],
      "text/plain": [
       "  current_date()\n",
       "0     2023-03-17"
      ]
     },
     "execution_count": 15,
     "metadata": {},
     "output_type": "execute_result"
    }
   ],
   "source": [
    "%sql select current_date\n",
    "# SELECT COUNT(*) AS streak \\\n",
    "# FROM ( \\\n",
    "#   SELECT DATE(dates) as dates \\\n",
    "#   FROM df \\\n",
    "#   ORDER BY dates DESC \\\n",
    "# ) AS t1 \\\n",
    "# WHERE dates >= DATE('now', '-n days') AND \\\n",
    "#   dates <= DATE('now') AND \\\n",
    "#   NOT EXISTS ( \\\n",
    "#     SELECT * \\\n",
    "#     FROM ( \\\n",
    "#       SELECT DATE(dates) as dates \\\n",
    "#       FROM df  \\\n",
    "#       ORDER BY dates DESC \\\n",
    "#       LIMIT 1 OFFSET n \\\n",
    "#     ) AS t2 \\\n",
    "#     WHERE t1.dates <= t2.dates \\\n",
    "#   )"
   ]
  },
  {
   "cell_type": "code",
   "execution_count": 27,
   "id": "64bef33b",
   "metadata": {},
   "outputs": [
    {
     "name": "stderr",
     "output_type": "stream",
     "text": [
      "UsageError: unrecognized arguments: -ROW_NUMBER() OVER(order by dates), dates) left join sub s on s.dates = f.dates where f.results = 'win' order by f.dates asc;\n"
     ]
    }
   ],
   "source": [
    "#without \\ you could not have separate rows for sql script\n",
    "%sql df_wins << WITH fully AS \\\n",
    "(SELECT *,cast(count(dates) as float) as count \\\n",
    "FROM df GROUP BY dates, results), \\\n",
    "sub as \\\n",
    "(SELECT dates, cast(count(dates) as float) as games \\\n",
    "FROM df GROUP BY dates) \\\n",
    "select f.*, s.games, (f.count/s.games)*100 as percentage, \\\n",
    "DATEADD(DAY, -ROW_NUMBER() OVER(order by dates), dates)\\\n",
    "left join sub s on s.dates = f.dates \\\n",
    "where f.results = 'win' \\\n",
    "order by f.dates asc;"
   ]
  },
  {
   "cell_type": "code",
   "execution_count": null,
   "id": "3d6d02ea",
   "metadata": {},
   "outputs": [],
   "source": [
    "#no dateadd function, I guess it only exists in sql server"
   ]
  },
  {
   "cell_type": "code",
   "execution_count": 20,
   "id": "bf23cca2",
   "metadata": {},
   "outputs": [
    {
     "name": "stdout",
     "output_type": "stream",
     "text": [
      "0      2020-07-13\n",
      "1      2020-07-14\n",
      "2      2020-07-15\n",
      "3      2020-07-21\n",
      "4      2020-12-01\n",
      "          ...    \n",
      "179    2023-02-28\n",
      "180    2023-03-01\n",
      "181    2023-03-02\n",
      "182    2023-03-03\n",
      "183    2023-03-09\n",
      "Name: dates, Length: 184, dtype: object\n"
     ]
    }
   ],
   "source": [
    "print(df_wins['dates'])"
   ]
  },
  {
   "cell_type": "code",
   "execution_count": null,
   "id": "5a43506c",
   "metadata": {},
   "outputs": [],
   "source": []
  }
 ],
 "metadata": {
  "kernelspec": {
   "display_name": "Python 3 (ipykernel)",
   "language": "python",
   "name": "python3"
  },
  "language_info": {
   "codemirror_mode": {
    "name": "ipython",
    "version": 3
   },
   "file_extension": ".py",
   "mimetype": "text/x-python",
   "name": "python",
   "nbconvert_exporter": "python",
   "pygments_lexer": "ipython3",
   "version": "3.9.12"
  }
 },
 "nbformat": 4,
 "nbformat_minor": 5
}
