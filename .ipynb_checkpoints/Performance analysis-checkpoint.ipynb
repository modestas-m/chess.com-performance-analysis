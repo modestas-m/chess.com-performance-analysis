{
 "cells": [
  {
   "cell_type": "code",
   "execution_count": 2,
   "id": "adb6f7bb",
   "metadata": {
    "scrolled": true
   },
   "outputs": [
    {
     "name": "stdout",
     "output_type": "stream",
     "text": [
      "C:\\Users\\ModestasMotiejunas\\anaconda3\\python.exe\n",
      "Collecting chess.com"
     ]
    },
    {
     "name": "stderr",
     "output_type": "stream",
     "text": [
      "ERROR: pip's dependency resolver does not currently take into account all the packages that are installed. This behaviour is the source of the following dependency conflicts.\n",
      "conda-repo-cli 1.0.4 requires pathlib, which is not installed.\n",
      "anaconda-project 0.10.2 requires ruamel-yaml, which is not installed.\n"
     ]
    },
    {
     "name": "stdout",
     "output_type": "stream",
     "text": [
      "\n",
      "  Downloading chess.com-2.0.6-py3-none-any.whl (11 kB)\n",
      "Collecting requests==2.28.0\n",
      "  Downloading requests-2.28.0-py3-none-any.whl (62 kB)\n",
      "Collecting aiohttp==3.8.3\n",
      "  Downloading aiohttp-3.8.3-cp39-cp39-win_amd64.whl (323 kB)\n",
      "Requirement already satisfied: yarl<2.0,>=1.0 in c:\\users\\modestasmotiejunas\\anaconda3\\lib\\site-packages (from aiohttp==3.8.3->chess.com) (1.6.3)\n",
      "Requirement already satisfied: async-timeout<5.0,>=4.0.0a3 in c:\\users\\modestasmotiejunas\\anaconda3\\lib\\site-packages (from aiohttp==3.8.3->chess.com) (4.0.1)\n",
      "Requirement already satisfied: charset-normalizer<3.0,>=2.0 in c:\\users\\modestasmotiejunas\\anaconda3\\lib\\site-packages (from aiohttp==3.8.3->chess.com) (2.0.4)\n",
      "Requirement already satisfied: aiosignal>=1.1.2 in c:\\users\\modestasmotiejunas\\anaconda3\\lib\\site-packages (from aiohttp==3.8.3->chess.com) (1.2.0)\n",
      "Requirement already satisfied: multidict<7.0,>=4.5 in c:\\users\\modestasmotiejunas\\anaconda3\\lib\\site-packages (from aiohttp==3.8.3->chess.com) (5.1.0)\n",
      "Requirement already satisfied: attrs>=17.3.0 in c:\\users\\modestasmotiejunas\\anaconda3\\lib\\site-packages (from aiohttp==3.8.3->chess.com) (21.4.0)\n",
      "Requirement already satisfied: frozenlist>=1.1.1 in c:\\users\\modestasmotiejunas\\anaconda3\\lib\\site-packages (from aiohttp==3.8.3->chess.com) (1.2.0)\n",
      "Requirement already satisfied: idna<4,>=2.5 in c:\\users\\modestasmotiejunas\\anaconda3\\lib\\site-packages (from requests==2.28.0->chess.com) (3.3)\n",
      "Requirement already satisfied: certifi>=2017.4.17 in c:\\users\\modestasmotiejunas\\anaconda3\\lib\\site-packages (from requests==2.28.0->chess.com) (2021.10.8)\n",
      "Requirement already satisfied: urllib3<1.27,>=1.21.1 in c:\\users\\modestasmotiejunas\\anaconda3\\lib\\site-packages (from requests==2.28.0->chess.com) (1.26.9)\n",
      "Requirement already satisfied: typing-extensions>=3.6.5 in c:\\users\\modestasmotiejunas\\anaconda3\\lib\\site-packages (from async-timeout<5.0,>=4.0.0a3->aiohttp==3.8.3->chess.com) (4.1.1)\n",
      "Installing collected packages: requests, aiohttp, chess.com\n",
      "  Attempting uninstall: requests\n",
      "    Found existing installation: requests 2.27.1\n",
      "    Uninstalling requests-2.27.1:\n",
      "      Successfully uninstalled requests-2.27.1\n",
      "  Attempting uninstall: aiohttp\n",
      "    Found existing installation: aiohttp 3.8.1\n",
      "    Uninstalling aiohttp-3.8.1:\n",
      "      Successfully uninstalled aiohttp-3.8.1\n",
      "Successfully installed aiohttp-3.8.3 chess.com-2.0.6 requests-2.28.0\n"
     ]
    }
   ],
   "source": [
    "# since you first have to create a virtual environment it get created with no jupyter notebooks preinstalled, so:\n",
    "# pip install --user ipykernel - this install the jupyter kernel \n",
    "# python -m ipykernel install --user --name=myenv - this creates the environment as kernel\n",
    "#I think there is no need to do have a virtual environment heret since it's just a notebook with analysis, "
   ]
  },
  {
   "cell_type": "code",
   "execution_count": 1,
   "id": "a0064b0d",
   "metadata": {
    "scrolled": true
   },
   "outputs": [],
   "source": [
    "\n",
    "from chessdotcom import client, get_player_game_archives\n",
    "from datetime import datetime\n",
    "import pprint\n",
    "import requests\n",
    "import pandas as pd\n",
    "\n",
    "username = 'chiopra'\n",
    "\n",
    "printer = pprint.PrettyPrinter()\n",
    "\n",
    "def print_stats(username):\n",
    "    data = client.get_player_stats(username, tts=0)\n",
    "    printer.pprint(data.json)\n",
    "\n"
   ]
  },
  {
   "cell_type": "markdown",
   "id": "fb67f144",
   "metadata": {},
   "source": [
    "### A/B Test: Playing more than 4 games per day leads to better results"
   ]
  },
  {
   "cell_type": "code",
   "execution_count": 79,
   "id": "f6523194",
   "metadata": {},
   "outputs": [],
   "source": [
    "dates = []\n",
    "results = []\n",
    "\n",
    "def appending_results(values):\n",
    "    if values['result'] == 'win':\n",
    "        results.append('win')\n",
    "    elif values['result'] == 'draw':\n",
    "        results.append('draw')\n",
    "    else:\n",
    "        results.append('loss')\n",
    "    return results\n",
    "\n",
    "def get_games(username):\n",
    "    data = get_player_game_archives(username)\n",
    "    for key,value in data.json.items():\n",
    "        for url in value:\n",
    "            games = requests.get(url).json()\n",
    "            for game in games['games']:\n",
    "                for k, v in game.items():\n",
    "                    if k == 'end_time':\n",
    "                        date = datetime.utcfromtimestamp(v).strftime('%Y-%m-%d')\n",
    "                        dates.append(date)\n",
    "                    if k == 'white' and v['username'] == 'chiopra':\n",
    "                        results = appending_results(v)\n",
    "                    elif k == 'black' and v['username'] == 'chiopra':\n",
    "                        results = appending_results(v)\n",
    "    return dates, results\n",
    "\n",
    "dates, results = get_games(username)\n",
    "\n",
    "\n",
    "#                 if game['time_class'] == 'rapid':\n",
    "#                     for k, v in game.items():\n",
    "#                         print(k)\n",
    "                #for tomorrow just the date and the result, loss or win to df and then do aggregate function to get wins/losses per day\n",
    "#                 print(type(game))\n",
    "#                 df = pd.DataFrame.from_dict(game, orient = 'columns')\n",
    "#                 print(df)\n",
    "#                 print\n",
    "#                 print(df.columns)\n",
    "#                 string = df['pgn'].to_string(index=False)\n",
    "#                 print(string)\n",
    "#                 for i in string.split('\"'):\n",
    "#                     print(i)\n",
    "#                 break;\n",
    "#             break;\n",
    "              \n",
    "    # for i in data['Archives']:\n",
    "    #     print(i)\n",
    "    # printer.pprint(data.json)\n",
    "\n",
    "# get_games(username)\n",
    "\n",
    "# print(requests.get('https://www.chess.com/game/live/1221711014').content())"
   ]
  },
  {
   "cell_type": "code",
   "execution_count": 138,
   "id": "1aee75e6",
   "metadata": {
    "scrolled": true
   },
   "outputs": [
    {
     "name": "stdout",
     "output_type": "stream",
     "text": [
      "            count\n",
      "dates            \n",
      "2022-12-09     58\n",
      "<class 'pandas.core.frame.DataFrame'>\n",
      "<class 'pandas.core.frame.DataFrame'>\n",
      "Index(['count', 'games per day'], dtype='object')\n",
      "MultiIndex([('2022-12-09', 'loss'),\n",
      "            ('2022-12-09',  'win')],\n",
      "           names=['dates', 'results'])\n"
     ]
    }
   ],
   "source": [
    "import numpy as np\n",
    "\n",
    "df = pd.DataFrame({'dates': dates,\n",
    "                   'results': results})\n",
    "\n",
    "df['count'] = 1\n",
    "\n",
    "df_test_sub = df.copy()\n",
    "\n",
    "# df_agg = df.groupby(['dates', 'results'])\n",
    "# ###WHAT THE FUCK IS GOING ON HERE, pandas fucking sucks dick\n",
    "# df_agg.head()\n",
    "# print(df.columns)\n",
    "\n",
    "\n",
    "df_test_sub = df_test.loc[df_test['dates'] == '2022-12-09']\n",
    "\n",
    "# dfmi.loc[:, ('one', 'second')]\n",
    "# df_test_sub['games per day'] = df_test_sub.groupby(['dates'])['count'].sum()\n",
    "# df_test_sub['games per day'] = df_test_sub.groupby(['dates'])['count'].sum()\n",
    "# print(df_test_sub)\n",
    "df_test_sub_agg = df_test_sub.groupby(['dates', 'results']).count()\n",
    "df_test_sub_agg['games per day'] = np.nan\n",
    "value = df_test_sub_agg.groupby(['dates'])['count'].sum()\n",
    "value = value.to_frame()\n",
    "print(value)\n",
    "print(type(value))\n",
    "print(type(df_test_sub_agg))\n",
    "print(df_test_sub_agg.columns)\n",
    "# print(df_test_sub_agg['dates'])\n",
    "df_test_sub_agg['games per day'] = value['count']\n",
    "df_test_sub_agg = df_test_sub_agg.reset_index\n",
    "print(df_test_sub_agg.index)\n",
    "# df_test_sub_agg.head()\n",
    "# print(df_test_sub.groupby(['dates'])['count'].sum())\n",
    "# print(df_test_sub['games per day'])\n",
    "# print(df_test_sub.groupby(['dates'])['count'].sum())\n",
    "# df_other = df_test_sub\n",
    "# df_other['games per day'] = df_test_sub.groupby(['dates']).sum()\n",
    "# df_other.head()\n",
    "\n",
    "# df_test_sub['percentage'] = df_test_sub['count']/df_test_sub['games per day']*100\n",
    "# df_test_sub.head()\n",
    "\n"
   ]
  },
  {
   "cell_type": "code",
   "execution_count": 121,
   "id": "67b5d120",
   "metadata": {},
   "outputs": [],
   "source": [
    "#I think that it works and doesn't work sometimes because of this warning\n",
    "\n",
    "# C:\\Users\\ModestasMotiejunas\\AppData\\Local\\Temp\\ipykernel_22844\\870220668.py:17: SettingWithCopyWarning: \n",
    "# A value is trying to be set on a copy of a slice from a DataFrame.\n",
    "# Try using .loc[row_indexer,col_indexer] = value instead\n",
    "\n",
    "# See the caveats in the documentation: https://pandas.pydata.org/pandas-docs/stable/user_guide/indexing.html#returning-a-view-versus-a-copy\n",
    "#   df_test_sub['games per day'] = df_test_sub.groupby(['dates'])['count'].sum()"
   ]
  },
  {
   "cell_type": "code",
   "execution_count": null,
   "id": "55c0e417",
   "metadata": {},
   "outputs": [],
   "source": []
  },
  {
   "cell_type": "code",
   "execution_count": null,
   "id": "aaaec7d3",
   "metadata": {},
   "outputs": [],
   "source": []
  }
 ],
 "metadata": {
  "kernelspec": {
   "display_name": "Python 3 (ipykernel)",
   "language": "python",
   "name": "python3"
  },
  "language_info": {
   "codemirror_mode": {
    "name": "ipython",
    "version": 3
   },
   "file_extension": ".py",
   "mimetype": "text/x-python",
   "name": "python",
   "nbconvert_exporter": "python",
   "pygments_lexer": "ipython3",
   "version": "3.9.12"
  }
 },
 "nbformat": 4,
 "nbformat_minor": 5
}
